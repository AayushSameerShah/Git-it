{
 "cells": [
  {
   "cell_type": "markdown",
   "metadata": {},
   "source": [
    "# References<br>—"
   ]
  },
  {
   "cell_type": "markdown",
   "metadata": {},
   "source": [
    "> Commits can be associated with references. The reference is the user friendly name that points to the SHA-1 value."
   ]
  },
  {
   "cell_type": "markdown",
   "metadata": {},
   "source": [
    "### *If a reference points to another reference, it is called a <u>Symbolic Reference</u>*"
   ]
  },
  {
   "cell_type": "markdown",
   "metadata": {},
   "source": [
    "`HEAR` and `main` are also the REFERENCES!!"
   ]
  },
  {
   "cell_type": "markdown",
   "metadata": {},
   "source": [
    "###### "
   ]
  },
  {
   "cell_type": "markdown",
   "metadata": {},
   "source": [
    "**Access In This Way**:<br>\n",
    "```sh\n",
    "git show (code(40) | code(7) | code(4) | HEAD | main | referenceTag)\n",
    "```\n",
    "How amazing!<br>\n",
    "See, the `HEAD` and `main` can change and will point to the very last commit, so use them with care."
   ]
  },
  {
   "cell_type": "markdown",
   "metadata": {},
   "source": [
    "###### "
   ]
  },
  {
   "cell_type": "markdown",
   "metadata": {},
   "source": [
    "### \"Tip\" of the Branch\n",
    "- As seen above, the branch *itself* points to the las commit, now **the last commit is called \"TIP\" of the branch**.\n",
    "- Branch labels are implemented as references."
   ]
  },
  {
   "cell_type": "markdown",
   "metadata": {},
   "source": [
    "###### "
   ]
  },
  {
   "cell_type": "markdown",
   "metadata": {},
   "source": [
    "### Access the references (main)!\n",
    "Use this path ↓\n",
    "\n",
    "    .git\n",
    "     |   ...\n",
    "     |   ...     /→ heads —→ main\n",
    "     +—→ refs —→ \n",
    "         ...     \\→ tags  -|\n",
    "         ..."
   ]
  },
  {
   "cell_type": "markdown",
   "metadata": {},
   "source": [
    "`main` is the simple text file! We can view the contents `cat main`"
   ]
  },
  {
   "cell_type": "markdown",
   "metadata": {},
   "source": [
    "# "
   ]
  },
  {
   "cell_type": "markdown",
   "metadata": {},
   "source": [
    "## What is `HEAD` and `main` reference?"
   ]
  },
  {
   "cell_type": "markdown",
   "metadata": {},
   "source": [
    "#### `main`\n",
    "It is the reference to the latest commit for *that* branch only.\n",
    "\n",
    "#### `HEAD`\n",
    "It is the reference to the most recent commit in the branch. But the thing different here is that, we can change the location of HEAD to make it point to another commits. While we can't do that with the *main* reference.\n",
    "\n",
    "HEAD usually points to the branch name, but the situation differs."
   ]
  },
  {
   "cell_type": "markdown",
   "metadata": {},
   "source": [
    "###### "
   ]
  },
  {
   "cell_type": "markdown",
   "metadata": {},
   "source": [
    "### Access the references (HEAD)!\n",
    "Use this path ↓\n",
    "\n",
    "    .git\n",
    "     |   ...\n",
    "     |   ...  \n",
    "     +—→ HEAD \n",
    "         ... \n",
    "         ..."
   ]
  },
  {
   "cell_type": "markdown",
   "metadata": {},
   "source": [
    "Again, `HEAD` is the simple text file! We can view the contents `cat HEAD`"
   ]
  },
  {
   "cell_type": "markdown",
   "metadata": {},
   "source": [
    "—<br>\n",
    "HEAD is `Symbolic Reference`<br>\n",
    "main is `Reference`<br>\n",
    "—"
   ]
  },
  {
   "cell_type": "markdown",
   "metadata": {},
   "source": [
    "# "
   ]
  },
  {
   "cell_type": "markdown",
   "metadata": {},
   "source": [
    "## Looking at the previous commits."
   ]
  },
  {
   "cell_type": "markdown",
   "metadata": {},
   "source": [
    "# `~`"
   ]
  },
  {
   "cell_type": "markdown",
   "metadata": {},
   "source": [
    "Before, we have seen how to *limit* the number of commits to be shown by:\n",
    "```sh\n",
    "git log -3\n",
    "```\n",
    "Now, we will see, **which** ***perticular*** previous commit we want to show from the parent.\n",
    "```sh\n",
    "git log <from_reference> ~ <how_much>\n",
    "\n",
    "Ex.\n",
    "git log HEAD~2\n",
    "git log main~3\n",
    "git log ebd234f~3\n",
    "\n",
    "Extra.\n",
    "git log HEAD~~   # == ~2\n",
    "git log main~~~  # == ~3\n",
    "```"
   ]
  },
  {
   "cell_type": "markdown",
   "metadata": {},
   "source": [
    "# `^`"
   ]
  },
  {
   "cell_type": "markdown",
   "metadata": {},
   "source": [
    "Mainly used for the **merge commit**. Merge commit has multiple parents."
   ]
  },
  {
   "cell_type": "markdown",
   "metadata": {},
   "source": [
    "It is and same here ↓  <br>\n",
    "**Interpetation**: Show the first parent of the commit.\n",
    "```sh\n",
    "git show HEAD^ == git show HEAD~  # (^ == ^1 and ~ == ~1)\n",
    "```\n",
    "But the things start getting different from here ↓\n",
    "**Interpetation**: Show the first parent's second parent.\n",
    "```sh\n",
    "git show HEAD^2 != git show HEAD~2\n",
    "```\n",
    "Here, if there are no branches, each node will have only single parent. So the command above will give an error. But will work when the node has 2 parents.\n",
    "\n",
    "## **Note**:<br>—<br> In `~`, we could use `*~~ == *~2` <br>But here in `^` the meaning of `*^^ != *^2`. "
   ]
  },
  {
   "cell_type": "markdown",
   "metadata": {},
   "source": [
    "Here, `^^` == `~~` == `~2`. "
   ]
  },
  {
   "cell_type": "markdown",
   "metadata": {},
   "source": [
    "So that means, `^` is primearily useful for the situation like ↓"
   ]
  },
  {
   "cell_type": "markdown",
   "metadata": {},
   "source": [
    "<pre>             ┌──┐\n",
    "             │  ├─────┐\n",
    "             └──┘     │\n",
    "              ▲       ▼\n",
    "┌──┐   ┌──┐   │      ┌──┐   ┌──┐\n",
    "│  ├──►│  ├───┤      │  ├──►│  │\n",
    "└──┘   └──┘   │      └──┘   └──┘\n",
    "              ▼       ▲     HEAD\n",
    "             ┌──┐     │\n",
    "             │  ├─────┘\n",
    "             └──┘\n",
    "</pre>"
   ]
  },
  {
   "cell_type": "markdown",
   "metadata": {},
   "source": [
    "So, from here, if we use `git show HEAD^2` then the HEAD's parent's 2nd parent will be shown. "
   ]
  },
  {
   "cell_type": "markdown",
   "metadata": {},
   "source": [
    "# "
   ]
  },
  {
   "cell_type": "markdown",
   "metadata": {},
   "source": [
    "# Tags"
   ]
  },
  {
   "cell_type": "markdown",
   "metadata": {},
   "source": [
    "It is the `reference` (yeah also a reference as it was in the folder of `refs`.) attatched to the specific commit accessed with *user-friendly* name. "
   ]
  },
  {
   "cell_type": "markdown",
   "metadata": {},
   "source": [
    "2 Types of Tags:\n",
    "1. **Lightweight Tag**\n",
    "        A simple reference to the commit. Like *branch label* or *HEAD*.\n",
    "2. **Annotated Tag**\n",
    "        - A Git Object (yes! A full git obj that acts as a reference to a commit)\n",
    "        - One of the objects in Git 4 objs!\n",
    "              1. Commit Obj\n",
    "            → 2. Annotated Tag ←\n",
    "              3. Tree\n",
    "              4. Blob\n",
    "    - It is an obj so it can contain **multiple** things like\n",
    "        1. Author Information\n",
    "        2. Tag Date\n",
    "        3. Tag Message\n",
    "        4. Commit ID\n",
    "        "
   ]
  },
  {
   "cell_type": "markdown",
   "metadata": {},
   "source": [
    "#### Tags have got special attention!\n",
    "```sh\n",
    "#They have the special syntax!\n",
    "git tag\n",
    "```"
   ]
  },
  {
   "cell_type": "markdown",
   "metadata": {},
   "source": [
    "As mentioned above (and also for you that you don't need to scroll) the access is simple with the show command!\n",
    "```sh\n",
    "git show (code(40) | code(7) | code(4) | HEAD | main | referenceTag)\n",
    "                                                       # TAG ↑\n",
    "```"
   ]
  },
  {
   "cell_type": "markdown",
   "metadata": {},
   "source": [
    "## How to make Tag?<br>—\n",
    "\n",
    "#### 1. Making Lightweight Tag\n",
    "```sh\n",
    "git tag <tagname> [<commit>]\n",
    "(commit defaults to HEAD)\n",
    "\n",
    "Also Like ↓\n",
    "git tag TagA HEAD~2\n",
    "```"
   ]
  },
  {
   "cell_type": "markdown",
   "metadata": {},
   "source": [
    "#### 2. Making Annotated Tag\n",
    "```sh\n",
    "git tag -a (-m <message> | -F <file> | giveNothing) <tagname> [<commit>]\n",
    "(commit defaults to HEAD)\n",
    "\n",
    "Ex.\n",
    "#               <message>      <tagname>  <commit>\n",
    "git tag -a -m \"Added Printer\"  printFunc    HEAD\n",
    "\n",
    "#                <file>      <tagname>  <commit>\n",
    "git tag -a -F \"./file2.txt\"  printFunc    HEAD\n",
    "\n",
    "#          <tagname>  <commit>\n",
    "git tag -a printFunc    HEAD\n",
    "#         ↑ giveNothing will open an editor for you\n",
    "```"
   ]
  },
  {
   "cell_type": "markdown",
   "metadata": {},
   "source": [
    "# <center> • New Knowledge •\n"
   ]
  },
  {
   "cell_type": "markdown",
   "metadata": {},
   "source": [
    "`git push` WILL NOT push the **TAGS** to the remote repository. We need to use the special syntax to push the tags.\n",
    "\n",
    "```sh\n",
    "# Single Tag Push\n",
    "git push origin <tagname> \n",
    "\n",
    "# All Tag push\n",
    "git push origin --tags\n",
    "```"
   ]
  },
  {
   "cell_type": "markdown",
   "metadata": {},
   "source": [
    "###### "
   ]
  },
  {
   "cell_type": "markdown",
   "metadata": {},
   "source": [
    "### Delete Tag\n",
    "```sh\n",
    "git tag -d <tagname>\n",
    "```"
   ]
  },
  {
   "cell_type": "markdown",
   "metadata": {},
   "source": [
    "# "
   ]
  },
  {
   "cell_type": "markdown",
   "metadata": {},
   "source": [
    "# That's it!\n",
    "Next up, the main things like Branches and Merge will take place!"
   ]
  }
 ],
 "metadata": {
  "kernelspec": {
   "display_name": "Python 3",
   "language": "python",
   "name": "python3"
  },
  "language_info": {
   "codemirror_mode": {
    "name": "ipython",
    "version": 3
   },
   "file_extension": ".py",
   "mimetype": "text/x-python",
   "name": "python",
   "nbconvert_exporter": "python",
   "pygments_lexer": "ipython3",
   "version": "3.8.5"
  }
 },
 "nbformat": 4,
 "nbformat_minor": 4
}
