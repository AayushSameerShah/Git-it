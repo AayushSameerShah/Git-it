{
 "cells": [
  {
   "cell_type": "markdown",
   "metadata": {},
   "source": [
    "# Git Model<br>—"
   ]
  },
  {
   "cell_type": "markdown",
   "metadata": {},
   "source": [
    "# . . ."
   ]
  },
  {
   "cell_type": "markdown",
   "metadata": {},
   "source": [
    "###### "
   ]
  },
  {
   "cell_type": "markdown",
   "metadata": {},
   "source": [
    "### *An Acyclic Graph*\n",
    "It means \"Not Cycle\" and that means: <u>*You can't find the path which starts and ends on the same node it is always forward.*</u>"
   ]
  },
  {
   "cell_type": "markdown",
   "metadata": {},
   "source": [
    "### *An Directed Acyclic Graph*\n",
    "Follows the same as Acyclic Graph but it has ARROWS, means there is only one way to go from one node to another."
   ]
  },
  {
   "cell_type": "markdown",
   "metadata": {},
   "source": [
    "Git follows ↑ this (DAG)."
   ]
  },
  {
   "cell_type": "markdown",
   "metadata": {},
   "source": [
    "# "
   ]
  },
  {
   "cell_type": "markdown",
   "metadata": {},
   "source": [
    "# Git Objects\n",
    "Git uses *objects* to store 4 types of things\n",
    "1. **Commit Object** - A small text file.\n",
    "        Contains:\n",
    "        - User info\n",
    "        - Commit Message\n",
    "        - Parent / Parents\n",
    "        - Reference to root tree\n",
    "2. **Annotated Tag** - A reference to a specific commit.\n",
    "3. **Tree** - File names / Directory and Files inside Directory.\n",
    "4. **Blob** - The content of the file in the project."
   ]
  },
  {
   "cell_type": "markdown",
   "metadata": {},
   "source": [
    "— Typically we only interact with **Commit Object** and **Tags**."
   ]
  },
  {
   "cell_type": "markdown",
   "metadata": {},
   "source": [
    "# "
   ]
  },
  {
   "cell_type": "markdown",
   "metadata": {},
   "source": [
    "# Git IDs\n",
    "- The **Name** of the Git Objec.\n",
    "- It is `40` character HEX string.\n",
    "        - Known as: Object ID / SHA-1 / Hash / Checksum\n",
    "        - We Commonly See Them in COMMIT: eeffd1123235423f23c4c2d2e\n",
    "        (SHA-1: Secure Hash Algorithm 1 values)"
   ]
  },
  {
   "cell_type": "markdown",
   "metadata": {},
   "source": [
    "## Create Manually SHA-1 by Git!!\n",
    "```sh\n",
    "git hash-object <file>\n",
    "```\n",
    "Just for **any** content!"
   ]
  },
  {
   "cell_type": "markdown",
   "metadata": {},
   "source": [
    "## NEW Knowledge"
   ]
  },
  {
   "cell_type": "markdown",
   "metadata": {},
   "source": [
    "- Git Actully makes `40` charecters long ID for the object. But we can use first `7` charecters to access that object.\n",
    "- Now obviously, `7` char can't represent the unique all time, but it is highly unlikely that our project will have the same 2 IDs starting with those same `7` chars. \n",
    "- If that happens, we can't access that object with those first `7` chars. Because obviously that is ambiguous. Otherwise we can."
   ]
  },
  {
   "cell_type": "markdown",
   "metadata": {},
   "source": [
    "## Show Contents of an Object"
   ]
  },
  {
   "cell_type": "markdown",
   "metadata": {},
   "source": [
    "```sh\n",
    "git show <code>\n",
    "```"
   ]
  },
  {
   "cell_type": "markdown",
   "metadata": {},
   "source": [
    "Now, `<code>` can be also `4` chars long, as long as it is not ambiguous. It doesn't have to be `7` for short."
   ]
  },
  {
   "cell_type": "markdown",
   "metadata": {},
   "source": [
    "### <center>• NEW Knowledge •"
   ]
  },
  {
   "cell_type": "markdown",
   "metadata": {},
   "source": [
    "The `git show` command needs the *pointer*. So there can be the ***Direct Address*** of an object or ***The reference*** to that object.\n",
    "\n",
    "More on this, on the very next book `References`"
   ]
  },
  {
   "cell_type": "markdown",
   "metadata": {},
   "source": [
    "# "
   ]
  },
  {
   "cell_type": "markdown",
   "metadata": {},
   "source": [
    "# Alright!\n",
    "Next up, we will take a look at another concept called \"References\"."
   ]
  }
 ],
 "metadata": {
  "kernelspec": {
   "display_name": "Python 3",
   "language": "python",
   "name": "python3"
  },
  "language_info": {
   "codemirror_mode": {
    "name": "ipython",
    "version": 3
   },
   "file_extension": ".py",
   "mimetype": "text/x-python",
   "name": "python",
   "nbconvert_exporter": "python",
   "pygments_lexer": "ipython3",
   "version": "3.8.5"
  }
 },
 "nbformat": 4,
 "nbformat_minor": 4
}
