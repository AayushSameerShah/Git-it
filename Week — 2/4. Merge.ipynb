{
 "cells": [
  {
   "cell_type": "markdown",
   "metadata": {},
   "source": [
    "# MERGE"
   ]
  },
  {
   "cell_type": "markdown",
   "metadata": {},
   "source": [
    "<pre>                  ┌─────┐\n",
    "BRANCH 1          │     │\n",
    "                ┌►│  B  ├─┐\n",
    "                │ └─────┘ │\n",
    "                │         │\n",
    "        ┌─────┐ │         │  ┌─────┐\n",
    "MAIN    │     │ │         │  │     │\n",
    "        │  A  ├─┴─────────┴─►│  C  │\n",
    "        └─────┘              └─────┘</pre>"
   ]
  },
  {
   "cell_type": "markdown",
   "metadata": {},
   "source": [
    "Now, `main` knows about the change. "
   ]
  },
  {
   "cell_type": "markdown",
   "metadata": {},
   "source": [
    "### 4 Types of merges\n",
    "1. **Fast - Forward** Merge\n",
    "2. **Merge Commit** Merge\n",
    "3. **Sqash** Merge\n",
    "4. **Rebase** Merge"
   ]
  },
  {
   "cell_type": "markdown",
   "metadata": {},
   "source": [
    "The *Squash* and *Rebase* are different as they actully rewrite the commit history."
   ]
  },
  {
   "cell_type": "markdown",
   "metadata": {},
   "source": [
    "# 1. Fast-Forward Merge<br>—\n"
   ]
  },
  {
   "cell_type": "markdown",
   "metadata": {},
   "source": [
    "- This is the simplest type of merge that should ideally be done. <br>\n",
    "Here... all the commits happened to the new branch, directly gets merged on the main branch. \n",
    "\n",
    "- Till the time while the commits happen in newBranch, no work has been done / no commits have been made to the main branch. Hence, it is easy to merge the newBranch commits to the main branch. \n",
    "\n",
    "**Note**: After mergning `HEAD`, `main`, and `newBranch` will be pointting to the same latest commit."
   ]
  },
  {
   "cell_type": "markdown",
   "metadata": {},
   "source": [
    ">***Fast - Forward merge is NOT possible if new commits have been made on the main branch in the meantime***"
   ]
  },
  {
   "cell_type": "markdown",
   "metadata": {},
   "source": [
    "**How to:**\n",
    "```sh\n",
    "# By ↓ default this performs FF merge.\n",
    "git merge <newBranch>\n",
    "```"
   ]
  },
  {
   "cell_type": "markdown",
   "metadata": {},
   "source": [
    "**Basic Steps**:\n",
    "```sh\n",
    "# 1. Come to main\n",
    "git checkout main\n",
    "\n",
    "# 2. Merge to main\n",
    "git merge <newBranch>\n",
    "\n",
    "# 3. Delete the branch\n",
    "git branch -d <newBranch>\n",
    "``` \n",
    "Try to see that `-d` is used."
   ]
  },
  {
   "cell_type": "markdown",
   "metadata": {},
   "source": [
    "# "
   ]
  },
  {
   "cell_type": "markdown",
   "metadata": {},
   "source": [
    "# 2. Merge Commit Merge<br>—\n"
   ]
  },
  {
   "cell_type": "markdown",
   "metadata": {},
   "source": [
    "Main thing is:<br>\n",
    "→ **It combines the *tips*** of the both branches & places the result in the merge commit."
   ]
  },
  {
   "cell_type": "markdown",
   "metadata": {},
   "source": [
    "<img src=\"merge.png\">"
   ]
  },
  {
   "cell_type": "markdown",
   "metadata": {},
   "source": [
    "Here, `M` has the combined data of `C` and `E` commit."
   ]
  },
  {
   "cell_type": "markdown",
   "metadata": {},
   "source": [
    ">## Merge commit always has multiple parents."
   ]
  },
  {
   "cell_type": "markdown",
   "metadata": {},
   "source": [
    "Combining the result of multiple commits may result int the **Merge Conflict**."
   ]
  },
  {
   "cell_type": "markdown",
   "metadata": {},
   "source": [
    "**Note**: Unlike the Fast - Forward merge, `HEAD`, `main`, and `newBranch` won't be on the same commit. The `newBranch` will refer to the `C` in this ↑ case. And `HEAD`, `main` will point to `M`."
   ]
  },
  {
   "cell_type": "markdown",
   "metadata": {},
   "source": [
    "**Basic Steps**: SAME\n",
    "```sh\n",
    "# 1. Come to main\n",
    "git checkout main\n",
    "\n",
    "# 2. Merge to main\n",
    "git merge <newBranch>\n",
    "\n",
    "# 3. Delete the branch\n",
    "git branch -d <newBranch>\n",
    "``` \n",
    "Try to see that `-d` is used."
   ]
  },
  {
   "cell_type": "markdown",
   "metadata": {},
   "source": [
    "SAME, yes SAME. First, git will try to merge with Fast Forward merge. But if that's not possible, it will try to perform `Merge Commit` and will open an editor."
   ]
  },
  {
   "cell_type": "markdown",
   "metadata": {},
   "source": [
    "—"
   ]
  },
  {
   "cell_type": "markdown",
   "metadata": {},
   "source": [
    "### How to decide wheter...\n",
    "The merge is \"Fast - Forwardable\" or not?<br>\n",
    "—\n",
    "\n",
    "Simple: There should not be any commits on the main branch after the new branch is created."
   ]
  },
  {
   "cell_type": "markdown",
   "metadata": {},
   "source": [
    "##### "
   ]
  },
  {
   "cell_type": "markdown",
   "metadata": {},
   "source": [
    "# What if I want...\n",
    "The *`Merge Commit`* merge ***EVEN WHEN*** the merge is Fast Forwardable?"
   ]
  },
  {
   "cell_type": "markdown",
   "metadata": {},
   "source": [
    "```sh\n",
    "git merge --no-ff <branchName>\n",
    "```\n",
    "This `--no-ff` will ensure, that the merge will happen in NON FF way."
   ]
  },
  {
   "cell_type": "markdown",
   "metadata": {},
   "source": [
    "**Basic Steps**: JUST A CHANGE\n",
    "```sh\n",
    "# 1. Come to main\n",
    "git checkout main\n",
    "\n",
    "# 2. Merge to main\n",
    "git merge --no-ff <newBranch>\n",
    "\n",
    "# 3. Delete the branch\n",
    "git branch -d <newBranch>\n",
    "``` \n",
    "Try to see that `-d` is used."
   ]
  },
  {
   "cell_type": "markdown",
   "metadata": {},
   "source": [
    "Sometimes ↑ we do this to make it look cleaner on the graph."
   ]
  },
  {
   "cell_type": "markdown",
   "metadata": {},
   "source": [
    "```sh\n",
    "# Merge options\n",
    "\n",
    "--ff       # FF if possible otherwise MCM\n",
    "--no-ff    # Not FF - just use MCM!\n",
    "--ff-only  # Just FF! Fail if not possible.\n",
    "--rebase   # Later\n",
    "```"
   ]
  },
  {
   "cell_type": "markdown",
   "metadata": {},
   "source": [
    "# "
   ]
  },
  {
   "cell_type": "markdown",
   "metadata": {},
   "source": [
    "# That's it!\n",
    "Next we will jump in the week — 3."
   ]
  }
 ],
 "metadata": {
  "kernelspec": {
   "display_name": "Python 3",
   "language": "python",
   "name": "python3"
  },
  "language_info": {
   "codemirror_mode": {
    "name": "ipython",
    "version": 3
   },
   "file_extension": ".py",
   "mimetype": "text/x-python",
   "name": "python",
   "nbconvert_exporter": "python",
   "pygments_lexer": "ipython3",
   "version": "3.8.5"
  }
 },
 "nbformat": 4,
 "nbformat_minor": 4
}
