{
 "cells": [
  {
   "cell_type": "markdown",
   "metadata": {},
   "source": [
    "# Branches\n",
    "*The way to parallel programming... not actully.*"
   ]
  },
  {
   "cell_type": "markdown",
   "metadata": {},
   "source": [
    "# "
   ]
  },
  {
   "cell_type": "markdown",
   "metadata": {},
   "source": [
    "### Branch\n",
    "It is the set of commits that trace back to the <u>project's first commit</u>. Yes. Project's first commit FOR EVERY BRANCH. See ↓"
   ]
  },
  {
   "cell_type": "markdown",
   "metadata": {},
   "source": [
    "<pre>                            ┌──────┐\n",
    "BRANCH 1                    │      │\n",
    "                            │  C   │\n",
    "                            └──────┘\n",
    "                             ▲\n",
    "        ┌─────┐   ┌─────┐    │\n",
    "MAIN    │     │   │     ├────┘\n",
    "        │  A  ├──►│  B  │\n",
    "        └─────┘   └─────┘\n",
    "</pre>"
   ]
  },
  {
   "cell_type": "markdown",
   "metadata": {},
   "source": [
    "Here see, BRANCH 1 has `C`, `B`, `A`. Where `A` is the first branch, right? I mean yea, the new branch also knows where it came from. So it has knowledge of `B` and `A`. But the main branch doesn't know there is `C`. But still, it has the first commit of the project `A`."
   ]
  },
  {
   "cell_type": "markdown",
   "metadata": {},
   "source": [
    "# "
   ]
  },
  {
   "cell_type": "markdown",
   "metadata": {},
   "source": [
    "## Benefits of Branches\n",
    "1. Fast and Easy (only creates small file of just a reference)\n",
    "2. Allows the Experimentations. (if you have an idea of a change, you can create and test your idea)\n",
    "3. Enable team development.\n",
    "4. Support multiple versions."
   ]
  },
  {
   "cell_type": "markdown",
   "metadata": {},
   "source": [
    "# <center> • New Tip •\n",
    "When shown the diagram like this and asked that \"Which commits are from BRANCH 1\"? then,\n",
    "<pre>                            ┌──────┐\n",
    "BRANCH 1                    │      │\n",
    "                            │  C   │\n",
    "                            └──────┘\n",
    "                             ▲\n",
    "        ┌─────┐   ┌─────┐    │\n",
    "MAIN    │     │   │     ├────┘\n",
    "        │  A  ├──►│  B  │\n",
    "        └─────┘   └─────┘</pre>\n",
    "Then you may get tempted to say \"C\". But that is wrong. Branch 1 has A, B and C all commits."
   ]
  },
  {
   "cell_type": "markdown",
   "metadata": {},
   "source": [
    "# "
   ]
  },
  {
   "cell_type": "markdown",
   "metadata": {},
   "source": [
    "# Creating Branch<br>—\n",
    "```sh\n",
    "git branch <name>\n",
    "```"
   ]
  },
  {
   "cell_type": "markdown",
   "metadata": {},
   "source": [
    "So easy! Isn't it?"
   ]
  },
  {
   "cell_type": "markdown",
   "metadata": {},
   "source": [
    "**See** running `git branch Branch1` will **Only Create the Reference** called \"Branch1\" and will point to the latest commit but **You will stay on the `main` branch—not get switched to the Branch1 automatically.**"
   ]
  },
  {
   "cell_type": "markdown",
   "metadata": {},
   "source": [
    "### See which branch is we are on...\n",
    "```sh\n",
    "git branch\n",
    "```"
   ]
  },
  {
   "cell_type": "markdown",
   "metadata": {},
   "source": [
    "> ### Where the `HEAD` is referring, we are on that branch. Simple."
   ]
  },
  {
   "cell_type": "markdown",
   "metadata": {},
   "source": [
    "# "
   ]
  },
  {
   "cell_type": "markdown",
   "metadata": {},
   "source": [
    "# Checkout<br>—\n",
    "Checkout is usually related to the branches<br>\n",
    "And does <u>2 main things</u>:\n",
    "1. **It switches** the HEAD to either BranchLabel or another Commit\n",
    "2. **It updates** the working tree ***with those files with which it points the commit to***. <br>\n",
    "↑ This (2nd) is really a strong feature. Really."
   ]
  },
  {
   "cell_type": "markdown",
   "metadata": {},
   "source": [
    "```sh\n",
    "# This ↓ guy is so cool\n",
    "git checkout <branch | commit>\n",
    "```"
   ]
  },
  {
   "cell_type": "markdown",
   "metadata": {},
   "source": [
    "#### "
   ]
  },
  {
   "cell_type": "markdown",
   "metadata": {},
   "source": [
    "## *Create* ***and*** *Checkout/Switch* branch together\n",
    "```sh\n",
    "# I ↓ told you, this guy is amazing.\n",
    "git checkout -b <new_branch_name>\n",
    "```\n",
    "This command is ONLY for new branches. *It fails if the branch already exists.*"
   ]
  },
  {
   "cell_type": "markdown",
   "metadata": {},
   "source": [
    "> **Note**: The new branch will be made ONLY WHERE the HEAD is pointing. (But we can also give the `commit id` to make branch from there) "
   ]
  },
  {
   "cell_type": "markdown",
   "metadata": {},
   "source": [
    "# "
   ]
  },
  {
   "cell_type": "markdown",
   "metadata": {},
   "source": [
    "# Commits<br>—\n",
    "Once we have created a new branch & switched to the new branch, the `main` stays alone pointing to the latest commit on it's own branch. Now, `HEAD` is with the newBranch.\n",
    "\n",
    "From then on, all commits will be made on the newBranch to which `main` is not aware of.\n",
    "\n",
    "### The Twist\n",
    "Also after creating the new branch and working on that branch after doing a couple of commits, **We can work on the `main` branch**!"
   ]
  },
  {
   "cell_type": "markdown",
   "metadata": {},
   "source": [
    "<pre>                           ┌─────┐\n",
    "                           │     │\n",
    "BRANCH 1                   │  C  │\n",
    "                           └─────┘\n",
    "                            ▲\n",
    "                            │\n",
    "        ┌─────┐   ┌─────┐   │ ┌─────┐\n",
    "MAIN    │     │   │     │   │ │     │\n",
    "        │  A  ├──►│  B  ├───┘►│  E  │\n",
    "        └─────┘   └─────┘     └─────┘</pre>"
   ]
  },
  {
   "cell_type": "markdown",
   "metadata": {},
   "source": [
    "See? Now, BRANCH1 only is aware of `A`, `B` and `C` but MAIN is only aware of `A`, `B`, `E`."
   ]
  },
  {
   "cell_type": "markdown",
   "metadata": {},
   "source": [
    "###### "
   ]
  },
  {
   "cell_type": "markdown",
   "metadata": {},
   "source": [
    "### Checking out the Commit! (instead of Branch)\n",
    "We checkout to the commit **to temporarily view an older version of the project**."
   ]
  },
  {
   "cell_type": "markdown",
   "metadata": {},
   "source": [
    "<pre>\n",
    "\n",
    "        ┌─────┐   ┌─────┐    ┌─────┐\n",
    "MAIN    │     │   │     │    │     │\n",
    "        │  A  ├──►│  B  ├───►│  C  │\n",
    "        └─────┘   └─────┘    └─────┘\n",
    "\n",
    "          HEAD                MAIN\n",
    "          </pre>"
   ]
  },
  {
   "cell_type": "markdown",
   "metadata": {},
   "source": [
    "Checking out a *commit* rather than the *branch* leads to the **Detatched HEAD** state. Here as you can see (in the above art) the HEAD is not attatched with the Branch! \n",
    "\n",
    "Here, instead of being `symbolic reference`, HEAD becomes `reference` to the commit!"
   ]
  },
  {
   "cell_type": "markdown",
   "metadata": {},
   "source": [
    "# Another Twist"
   ]
  },
  {
   "cell_type": "markdown",
   "metadata": {},
   "source": [
    "In the detatched HEAD state, as our example, we have the HEAD on commit `A`, but the main branch is on `C` commit. Now, for the viewing purpose that detatching things work fine. But if you want to add a *step* a commit in between `A` and `B` then you have to make a new branch from there and add a new commit. "
   ]
  },
  {
   "cell_type": "markdown",
   "metadata": {},
   "source": [
    "> **Note**: The new branch will be made ONLY WHERE the HEAD is pointing. So, here in the example above, we have detatched HEAD pointing to the commit `A`, now creating the new Branch will start / point to the commit `A`. (But we can also give the `commit id` to make branch from there) "
   ]
  },
  {
   "cell_type": "markdown",
   "metadata": {},
   "source": [
    "# "
   ]
  },
  {
   "cell_type": "markdown",
   "metadata": {},
   "source": [
    "# Deleting Branch<br>—\n",
    "*Deleting a branch **really** just means to remove the  Branch Label.*\n",
    "```sh\n",
    "git branch -d <branchName>\n",
    "```"
   ]
  },
  {
   "cell_type": "markdown",
   "metadata": {},
   "source": [
    "The branches are commonly deleted after merging."
   ]
  },
  {
   "cell_type": "markdown",
   "metadata": {},
   "source": [
    "### If you have done some work on the branch...\n",
    "And trying to delete the branch **without mergning** git will not let you do that because you may lose some commited work on that branch. But still it is possible to delete a branch without merging... \n",
    "\n",
    "```sh\n",
    "# Warns if there is non merged work (same)\n",
    "git branch -d <branch>\n",
    "\n",
    "# Really want to delete? (not merged work?)\n",
    "git branch -D <branch>\n",
    "```"
   ]
  },
  {
   "cell_type": "markdown",
   "metadata": {},
   "source": [
    "# "
   ]
  },
  {
   "cell_type": "markdown",
   "metadata": {},
   "source": [
    "## Done? No!! That was by mistake. How to Undo?\n",
    "If you accidently ran `git branch -D <branch>` but you didn't actully want to do that... you might still recover the files / commits. Here is `git reflog`\n",
    "\n",
    "```sh\n",
    "git reflog\n",
    "```\n",
    "This command returns the list of HEAD commits.<br>\n",
    "—<br>\n",
    "The `reflog` gives the traces of HEAD, so when we accidently deleted the branch, git would have returned the `commit id` of which that branch was pointing to. Now, we can use the reflog to make sure that id other wise just... do this ↓\n",
    "```sh\n",
    "git checkout -b <branchName> 112ba2f\n",
    "```\n",
    "Which will make the branch there. <br>\n",
    "—\n",
    "#### REMEMBER, we only have deleted the BRANCH NAME—NOT THE COMMITS\n",
    "The commits are **Dangling** over there! (Which will be grabage collected if not used for some time)"
   ]
  },
  {
   "cell_type": "markdown",
   "metadata": {},
   "source": [
    "# "
   ]
  },
  {
   "cell_type": "markdown",
   "metadata": {},
   "source": [
    "# Next up,\n",
    "We will merge them."
   ]
  }
 ],
 "metadata": {
  "kernelspec": {
   "display_name": "Python 3",
   "language": "python",
   "name": "python3"
  },
  "language_info": {
   "codemirror_mode": {
    "name": "ipython",
    "version": 3
   },
   "file_extension": ".py",
   "mimetype": "text/x-python",
   "name": "python",
   "nbconvert_exporter": "python",
   "pygments_lexer": "ipython3",
   "version": "3.8.5"
  }
 },
 "nbformat": 4,
 "nbformat_minor": 4
}
