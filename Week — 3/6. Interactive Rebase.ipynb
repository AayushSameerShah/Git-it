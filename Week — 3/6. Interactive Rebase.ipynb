{
 "cells": [
  {
   "cell_type": "markdown",
   "metadata": {},
   "source": [
    "# Interactive. what? Rebase?"
   ]
  },
  {
   "cell_type": "markdown",
   "metadata": {},
   "source": [
    "We have seen the Rebase before. It was just changing the *ancestor* of a branch. I mean really. It was limited to that setting only. Now... wait up, let's revise the types.\n",
    "\n",
    "**2 Types** of rebase:\n",
    "1. Typical Rebase \n",
    "2. Interactive Rebase\n",
    "\n",
    "Now, after leatning the ***Typical* Rebase** we now can call it ***Ancestor Change Rebase*** (awkward, I know) but it does just that. Only that. That's it."
   ]
  },
  {
   "cell_type": "markdown",
   "metadata": {},
   "source": [
    "# . . ."
   ]
  },
  {
   "cell_type": "markdown",
   "metadata": {},
   "source": [
    "###### "
   ]
  },
  {
   "cell_type": "markdown",
   "metadata": {},
   "source": [
    "## What is *Interactive*?<br>—"
   ]
  },
  {
   "cell_type": "markdown",
   "metadata": {},
   "source": [
    "***Interactive*** is like the `for each` loop. <br>\n",
    "Remember, we are *rewriting the history*, so here we will *iterate* through *each* commit node and do some change. "
   ]
  },
  {
   "cell_type": "markdown",
   "metadata": {},
   "source": [
    "###### "
   ]
  },
  {
   "cell_type": "markdown",
   "metadata": {},
   "source": [
    "## How to?<br>—"
   ]
  },
  {
   "cell_type": "markdown",
   "metadata": {},
   "source": [
    "We will start with some node, like shown here... ↓\n",
    "<pre>\n",
    "\n",
    "┌───┐\n",
    "│███│   ┌───┐   ┌───┐   ┌───┐\n",
    "│█A█├──►│ B ├──►│ C ├──►│ D │\n",
    "│███│   └───┘   └───┘   └───┘\n",
    "└───┘\n",
    "Start ───↑────────↑───── End\n",
    "</pre>"
   ]
  },
  {
   "cell_type": "markdown",
   "metadata": {},
   "source": [
    "Now, see? We will start with some node (here `A`) and then will iterate over is children. <br>\n",
    "**NOTE**: You may ask, **What path the iterator will take if there are branches?** Nice question. <u>The answer</u> is that we will be able to iterate through ***a single branch*** at a time. So a single branch is *always* linear."
   ]
  },
  {
   "cell_type": "markdown",
   "metadata": {},
   "source": [
    "###### "
   ]
  },
  {
   "cell_type": "markdown",
   "metadata": {},
   "source": [
    "## What to?<br>—"
   ]
  },
  {
   "cell_type": "markdown",
   "metadata": {},
   "source": [
    "We can perform total `8` types of alteration on the commits.<br>\n",
    "Yes, you herd me right `8`. E-I-G-H-T. Eight.\n",
    "\n",
    "1. Use commit **as it is** (no change)\n",
    "2. **Drop** commit\n",
    "3. **Edit** commit **message**\n",
    "4. **Stop** at that commit and **edit** the files there (or other stuff that you know - just the iterator will stop there and let you do the job, then it will continue)\n",
    "5. **Squash** (4th type of merge, remember?)\n",
    "6. **Fixup**\n",
    "7. **Reorder** commits\n",
    "8. Execute **Shell** commands"
   ]
  },
  {
   "cell_type": "markdown",
   "metadata": {},
   "source": [
    "Now, see? We will start with some node and then will iterate over. <br>\n",
    "**NOTE**: You may ask, **What path the iterator will take if there are branches?** Nice question. <u>The answer</u> is that we will be able to iterate through ***a single branch*** at a time. So a single branch is *always* linear."
   ]
  },
  {
   "cell_type": "markdown",
   "metadata": {},
   "source": [
    "###### "
   ]
  },
  {
   "cell_type": "markdown",
   "metadata": {},
   "source": [
    "## How to start?<br>—\n",
    "```sh\n",
    "# All starts ↓ here\n",
    " git rebase -i <commitID>\n",
    "      # From  this ↑ commit\n",
    "```"
   ]
  },
  {
   "cell_type": "markdown",
   "metadata": {},
   "source": [
    "To do one of the actions, use the commands from this list (which will be provided automatically by git) <br>\n",
    "<img src=\"./images/rebase_interaction_commands.png\" height=500 width=700><br>\n",
    "Yes, you can see `7` here, not `8`. The `reorder` is not here.<br>\n",
    "To **reorder** the commits, you have to swap the lines manually. Like in this picture. ↓ <br>\n",
    "<img src=\"./images/rebase_swap.png\" height=500 width=300>"
   ]
  },
  {
   "cell_type": "markdown",
   "metadata": {},
   "source": [
    "Samaj rahe ho na?"
   ]
  },
  {
   "cell_type": "markdown",
   "metadata": {},
   "source": [
    "###### "
   ]
  },
  {
   "cell_type": "markdown",
   "metadata": {},
   "source": [
    "## Why are we doing that?<br>—\n",
    "See, many actions can be done individually. But this is like a `for each` loop as I have said. We can do many things at one go. It is easy to follow and gives nice interface.\n",
    "\n",
    "Other thing is, that the work it does can be done manually too, like, if you want to change the files or message of the commit we can go for `git commit --amend` and also can got with `edit` option here in the interactive rebase session!\n",
    "\n",
    "We are just doing this for easy interface and perform many alterations at one go."
   ]
  },
  {
   "cell_type": "markdown",
   "metadata": {},
   "source": [
    "###### "
   ]
  },
  {
   "cell_type": "markdown",
   "metadata": {},
   "source": [
    "## Show me the steps<br>—\n",
    "1. Run `git rebase -i <commitID`\n",
    "2. Editor will open with the list to commit ids and messages to know which one is which\n",
    "3. Replace the \"action\" like<font color=\"green\" face=\"consolas\"> pick </font>to something like<font color=\"green\" face=\"consolas\"> drop </font>or<font color=\"green\" face=\"consolas\"> edit </font>\n",
    "4. Hit exit and the rebase will happen\n",
    "5. The merge conflict can araise. Then the iteration will pause, go and fix that. Then come and hit `git rebase --continue` and again, the iteration will continue from there.\n",
    "6. You can also abort it by `git rebase --abort`.\n",
    "\n",
    "Simple!"
   ]
  },
  {
   "cell_type": "markdown",
   "metadata": {},
   "source": [
    "# "
   ]
  },
  {
   "cell_type": "markdown",
   "metadata": {},
   "source": [
    "## ***Some of*** the `8` actions explained<br>—\n",
    "1. `pick`: It will keep that commit as it is. No change.\n",
    "2. `drop`: It will delete that commit and then join its child to its parent.\n",
    "        Example:\n",
    "        ‾‾‾‾‾‾‾\n",
    "        A → B → C → D (before)\n",
    "            ↑\n",
    "            want to\n",
    "            drop\n",
    "            \n",
    "        A → C → D (after)\n",
    "       \n",
    "       • It will perform the merge between A and C.\n",
    "       • There are high chanses to get the merge conflict because mostly we will have same file with updation in the subsequent commits.\n",
    "       \n",
    "\n",
    "3. `squash` and `fixup`: It will merge the subsequent commits. \n",
    "        Example-1:\n",
    "        ‾‾‾‾‾‾‾‾‾\n",
    "        A → B → C → D (before)\n",
    "                ↑\n",
    "                want to\n",
    "                squash\n",
    "            \n",
    "        A → BC → D (after)\n",
    "        \n",
    "        Example-2:\n",
    "        ‾‾‾‾‾‾‾‾‾\n",
    "        A → B → C → D (before)\n",
    "                ↑   ↑\n",
    "                want to\n",
    "                squash\n",
    "            \n",
    "        A → BCD (after)"
   ]
  },
  {
   "cell_type": "markdown",
   "metadata": {},
   "source": [
    "# "
   ]
  },
  {
   "cell_type": "markdown",
   "metadata": {},
   "source": [
    "## Squash Merge<br>—\n",
    "It is the 4th type of merge. So it requires a little extra attention.\n",
    "\n",
    "##### —1st. Use of squash merge\n",
    "Squash merge is used to ***merge the subsequent commits*** like we learn't how to in the interactive rebase.\n",
    "\n",
    "##### —2nd. Use of squash merge\n",
    "It is also used (out side of interactive rebase) to merge the branches ***squashily***. Yes. It is not available in the interactive rebase because, you know, interactive rebase only allows linear traversal. So both branches can't be traversed.\n",
    "\n",
    "Here, we need to perform the squash merge manually. In this way. First - let's look at the scenario.<br>\n",
    "<img src=\"./images/squash.png\" height=500 width=700>\n"
   ]
  },
  {
   "cell_type": "markdown",
   "metadata": {},
   "source": [
    "Here, as we can see ↑ Squash merge merges `D` and `C` in to the commit `E`. You may ask...<br>\n",
    "<u>**Q.**</u> Hey buddy! What The Fun? The squash does the same as MCM. It merges `D` and `C` making `E` what is the difference? <br>\n",
    "<u>**A.**</u> Did you see the whole branch (featureX) is deleted along with the `B` and `D` commits?\n",
    "\n",
    "That's the difference. Squash merge will also *rewrite the history*. It will merge the `D` and `C` like MCM does but it will also delete the branch label. Then `E` will no longer be children of `C` and `D`. So, `B` and `D` will be dangling commits and eventully be garbadge collected.\n",
    "\n",
    "**Squash makes the commit history clean and linear**."
   ]
  },
  {
   "cell_type": "markdown",
   "metadata": {},
   "source": [
    "Here are the basic steps to perform the squash merge:\n",
    "```sh\n",
    "# 1. Go to the main branch\n",
    "git checkout main\n",
    "\n",
    "# 2. Perform the merge with --squash\n",
    "git merge --squash <branch>\n",
    "\n",
    "# 3. Commit now\n",
    "git commit \n",
    "# Again notice! We have to commit after merge\n",
    "\n",
    "# 4. Delete branch (manually?)\n",
    "git branch -D <branch>\n",
    "```\n",
    "Focus on the `3rd` step. We need to commit. Unlike other merge modes, we have to commit.<br>\n",
    "Because **squash** will add the new files in the working tree ***&*** add them to the staging area letting us to commit. Cool.\n",
    "\n",
    "And yes, we still need to remove the branch label then. Squash merge will not delete automatically."
   ]
  },
  {
   "cell_type": "markdown",
   "metadata": {},
   "source": [
    "Again to focus, repeating ↓\n",
    "> #### Squash will add the files in ***working tree*** <u>and also</u> add ***to the staging area***.\n"
   ]
  },
  {
   "cell_type": "markdown",
   "metadata": {},
   "source": [
    "# "
   ]
  },
  {
   "cell_type": "markdown",
   "metadata": {},
   "source": [
    "# Done!\n",
    "Cool! We are now with the knowledge how to rewrite the history. <br>\n",
    "Really week — 3 brought many new things to learn and took time to create such notbook as well!\n",
    "\n",
    "Okay, we will meet in the next week — 4."
   ]
  }
 ],
 "metadata": {
  "kernelspec": {
   "display_name": "Python 3",
   "language": "python",
   "name": "python3"
  },
  "language_info": {
   "codemirror_mode": {
    "name": "ipython",
    "version": 3
   },
   "file_extension": ".py",
   "mimetype": "text/x-python",
   "name": "python",
   "nbconvert_exporter": "python",
   "pygments_lexer": "ipython3",
   "version": "3.8.5"
  }
 },
 "nbformat": 4,
 "nbformat_minor": 4
}
