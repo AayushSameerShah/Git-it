{
 "cells": [
  {
   "cell_type": "markdown",
   "metadata": {},
   "source": [
    "# Rebasing\n",
    "*—Rewriting History*"
   ]
  },
  {
   "cell_type": "markdown",
   "metadata": {},
   "source": [
    "#  . . ."
   ]
  },
  {
   "cell_type": "markdown",
   "metadata": {},
   "source": [
    "###### "
   ]
  },
  {
   "cell_type": "markdown",
   "metadata": {},
   "source": [
    "## 2 Types of rebase<br>—\n",
    "1. Typical Rebase\n",
    "2. Interactive Rebase"
   ]
  },
  {
   "cell_type": "markdown",
   "metadata": {},
   "source": [
    "# "
   ]
  },
  {
   "cell_type": "markdown",
   "metadata": {},
   "source": [
    "## Situation<br>—"
   ]
  },
  {
   "cell_type": "markdown",
   "metadata": {},
   "source": [
    "<pre>\n",
    "        \n",
    "                        ┌───┐  ┌───┐\n",
    "      branch 1    ┌────►│ B ├─►│ C │\n",
    "                  │     └───┘  └───┘\n",
    "                  │\n",
    "                ┌─┴─┐   ┌───┐\n",
    "          main  │ A ├──►│ D │\n",
    "                └───┘   └───┘</pre>"
   ]
  },
  {
   "cell_type": "markdown",
   "metadata": {},
   "source": [
    "Here, if we want to merge, we have to perform MCM. But! With **rebase** it is possible to *rewrite history*."
   ]
  },
  {
   "cell_type": "markdown",
   "metadata": {},
   "source": [
    "<pre>\n",
    "\n",
    "                \n",
    "                                ┌───┐  ┌───┐\n",
    "      branch 1            ┌────►│ B'├─►│ C'│\n",
    "                          │     └───┘  └───┘\n",
    "                          │\n",
    "                ┌───┐   ┌─┴─┐\n",
    "          main  │ A ├──►│ D │\n",
    "                └───┘   └───┘</pre>"
   ]
  },
  {
   "cell_type": "markdown",
   "metadata": {},
   "source": [
    "See? We have just shifted the origin of the branch! So now, ***instead of*** performing **MCM**, we can perform **FF** merge.\n",
    "\n",
    "> **The commit ID will also change** — `B != B'` and `C != C'`."
   ]
  },
  {
   "cell_type": "markdown",
   "metadata": {},
   "source": [
    "# "
   ]
  },
  {
   "cell_type": "markdown",
   "metadata": {},
   "source": [
    "# <center> • New Knowledge •"
   ]
  },
  {
   "cell_type": "markdown",
   "metadata": {},
   "source": [
    "Git is capable of showing *knowing* the difference between 2 commits. Which is called as **`diff`**. Git knows exactly where the file differs from the previous version of the same file. Git does for all files. \n",
    "\n",
    "Remember! Each commit is a snapshot of <u>*entire*</u> project."
   ]
  },
  {
   "cell_type": "markdown",
   "metadata": {},
   "source": [
    "# "
   ]
  },
  {
   "cell_type": "markdown",
   "metadata": {},
   "source": [
    "—<br>See that, we are ***not just changing*** the reference of the ancestor but we also need to take care of the files.\n",
    "\n",
    "Because when originally we made a branch from `A` in this (↑ Ascii Art) case, the files in `B` came from commit `B` (so in the commit `B` there will be the data of `diff A-B`). So, while rebasing **we would also require the same `diff A-B`**. Because if we rebase / rewrite the commit history of `B` which now will have the new ancestor `D` you know, there would have been different thing `diff D-B` if it had originated from `D` instead of `A`.\n",
    "\n",
    "Now,<br>\n",
    "When we do rebase, the SAME `diff A-B` will be copied. To make it look like it is originated from `D`.<br> Which is called \"<u>**Reapplying Commits**</u>\"."
   ]
  },
  {
   "cell_type": "markdown",
   "metadata": {},
   "source": [
    "<img src=\"./images/rebase.png\" height=500 width=700>"
   ]
  },
  {
   "cell_type": "markdown",
   "metadata": {},
   "source": [
    "# "
   ]
  },
  {
   "cell_type": "markdown",
   "metadata": {},
   "source": [
    "## The Twist<br>—\n",
    "*Rebase again, does the **merge** internally.*<br>\n",
    "That directly means that we can run into the *merge conflict*."
   ]
  },
  {
   "cell_type": "markdown",
   "metadata": {},
   "source": [
    "<img src=\"./images/rebase_conflict.png\" height=500 width=700>"
   ]
  },
  {
   "cell_type": "markdown",
   "metadata": {},
   "source": [
    "If you see in a clean and focused way, you will notice that Rebase is actully merging `B` and `C` here ↑ while keeping `B` as a seperate branch. I don't know! What I am talking about here... AAH! No problem, just get going."
   ]
  },
  {
   "cell_type": "markdown",
   "metadata": {},
   "source": [
    "Rebase<br>\n",
    "—<br>\n",
    "\n",
    "**Pros**:\n",
    "- Have updates from the parent branch.\n",
    "    - See **new** features / bugfixes\n",
    "    - Tests are done on the **current code**\n",
    "    - Makes the eventual **merge fast-forwardable**\n",
    "- Avoids \"unnecessary\" commits.\n",
    "    - Allows you to shape the **clean commit history**\n",
    "    \n",
    "**Cons**:\n",
    "- Merge **conflicts** can be headache.\n",
    "- Creates problems if the repository is **shared**.\n",
    "- You are not *preserving* the commit history."
   ]
  },
  {
   "cell_type": "markdown",
   "metadata": {},
   "source": [
    "# "
   ]
  },
  {
   "cell_type": "markdown",
   "metadata": {},
   "source": [
    "## How To<br>—\n",
    "**Either** (in 2 steps) ↓\n",
    "```sh\n",
    "# 1. Checkout to NewBranch (not main)\n",
    "git checkout NewBranch\n",
    "\n",
    "# 2. Rebase to the base branch (main)\n",
    "git rebase main\n",
    "```\n",
    "**Or** (in 1 step) ↓\n",
    "```sh\n",
    "# Perform 1. and 2. from above together\n",
    "git rebase NewBranch main\n",
    "```"
   ]
  },
  {
   "cell_type": "markdown",
   "metadata": {},
   "source": [
    "# "
   ]
  },
  {
   "cell_type": "markdown",
   "metadata": {},
   "source": [
    "## When you run into a merge conflict<br>—\n",
    "We have to follow the ***same procedure*** again that we did in the merge conflict situation.<br>\n",
    "**`Either`**<br>\n",
    "Go to the conflicting file and fix the problem. Add the file again and then run the `rebase` command.<br>\n",
    "**`Or`**<br>\n",
    "We can simply *abort* the rebase by:\n",
    "```sh\n",
    "git rebase --abort\n",
    "```\n",
    "Like we did in merge `git merge --abort`.<br>\n",
    "—<br>\n",
    "Let's see how."
   ]
  },
  {
   "cell_type": "markdown",
   "metadata": {},
   "source": [
    "1. Have made a branch\n",
    "2. Made change in File1.txt and comitted (main)\n",
    "3. Made change in File1.txt and comitted (branch)\n",
    "4. Tried rebase on main\n",
    "5. Got the conflict ↓<br>\n",
    "<img src=\"./images/rebase_conflict_mine.png\" height=500 width=700><br>\n",
    "\n",
    "6. See the state is ↓ (like the merge conflict) <br>\n",
    "<img src=\"./images/rebase_state.png\" height=500 width=500><br>\n",
    "\n",
    "7. Can't *abort* with `git merge --abort`<br>\n",
    "<img src=\"./images/rebase_no_abort.png\" height=500 width=500><br>\n",
    "8. So did `git rebase --abort` which worked.<br>\n",
    "`OR`<br>8. Fixed the problem and ran `git rebase --continue` to continue the rebase."
   ]
  },
  {
   "cell_type": "markdown",
   "metadata": {},
   "source": [
    "#### "
   ]
  },
  {
   "cell_type": "markdown",
   "metadata": {},
   "source": [
    "## Did you fixed the problem? And then trying to rebase?<br>—\n",
    "Run\n",
    "```sh\n",
    "git rebase --continue\n",
    "```\n",
    "Yes. You have to run `--continue` to rebase it. **If you run the same `git rebase <branch> main` *while* in the rebase conflict state, it will not work.** You have to provide `--continue`."
   ]
  },
  {
   "cell_type": "markdown",
   "metadata": {},
   "source": [
    "# "
   ]
  },
  {
   "cell_type": "markdown",
   "metadata": {},
   "source": [
    "# That was cool!\n",
    "I don't think that I am gonna use it, but still it looks good when we have some weird branching scenario.<br>\n",
    "Next up, we will *Rewrite The History*. (Rebase is kind of rewriting, but we will now see *actual* rewriting)."
   ]
  }
 ],
 "metadata": {
  "kernelspec": {
   "display_name": "Python 3",
   "language": "python",
   "name": "python3"
  },
  "language_info": {
   "codemirror_mode": {
    "name": "ipython",
    "version": 3
   },
   "file_extension": ".py",
   "mimetype": "text/x-python",
   "name": "python",
   "nbconvert_exporter": "python",
   "pygments_lexer": "ipython3",
   "version": "3.8.5"
  }
 },
 "nbformat": 4,
 "nbformat_minor": 4
}
