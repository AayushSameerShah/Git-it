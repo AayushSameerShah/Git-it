{
 "cells": [
  {
   "cell_type": "markdown",
   "metadata": {},
   "source": [
    "# Tracking Branches"
   ]
  },
  {
   "cell_type": "markdown",
   "metadata": {},
   "source": [
    "*A* ***tracking branch*** *is a* ***local branch*** <u>*but*</u> *it represents* ***remote branch***"
   ]
  },
  {
   "cell_type": "markdown",
   "metadata": {},
   "source": [
    "# . . ."
   ]
  },
  {
   "cell_type": "markdown",
   "metadata": {},
   "source": [
    "###### "
   ]
  },
  {
   "cell_type": "markdown",
   "metadata": {},
   "source": [
    "## As we know...\n",
    "All in git is a Reference.<br>\n",
    "Branch Label is a reference to the commit.<br>\n",
    "—<br>\n",
    "Similarly we have a Branch Label but is intended for the Remote Repository's commit. Which stays in the local branch but it is for the remote branch. *To resolve* ambiguity, we call it \"Tracking Branch\"."
   ]
  },
  {
   "cell_type": "markdown",
   "metadata": {},
   "source": [
    "###### "
   ]
  },
  {
   "cell_type": "markdown",
   "metadata": {},
   "source": [
    "## Tracking Branch<br>—\n",
    "Tracking branch name normally starts with `remote label name` then `/` then `remote branch`. <br>\n",
    "Ex. `origin/main` <br>\n",
    "\n",
    "<img src=\"./images/clone.png\" height=400 width=500>"
   ]
  },
  {
   "cell_type": "markdown",
   "metadata": {},
   "source": [
    "So generally, when we clone a repository (of course also works when we push to the repository, but for a sake of simplicity here, we are cloning) we get a copy of the repository and at the same time we will have branch labels.\n",
    "1. main branch label\n",
    "2. tracking branch label\n",
    "\n",
    "Now, see tracking branch **is not** a seperate branch. It is not like the usual branch that we are used to know. The label is just to tell us \"Where the origin's commit is and where we are - to tally up things and make sure the histories are same in both sides\". "
   ]
  },
  {
   "cell_type": "markdown",
   "metadata": {},
   "source": [
    "# "
   ]
  },
  {
   "cell_type": "markdown",
   "metadata": {},
   "source": [
    "## The Twist<br>—"
   ]
  },
  {
   "cell_type": "markdown",
   "metadata": {},
   "source": [
    "It is entirely possible that, we messup. By messing up means — we can commit on both sides seperately. I can add some feature in the local branch but someone else may have done something else on the remote branch. Again, *this like* the **merge conflict problem** but not exactly that.\n",
    "\n",
    "<img src=\"./images/decoupled.png\" height=300 width=500><br>\n",
    "*Actully I am sorry for using the images instead of the ascii art. The reason is that the ascii art was taking much longer time for me to make and ... you know we can use the direct image to demonstrate the same thing.*"
   ]
  },
  {
   "cell_type": "markdown",
   "metadata": {},
   "source": [
    "#### It is called ***Decoupled*** branches."
   ]
  },
  {
   "cell_type": "markdown",
   "metadata": {},
   "source": [
    "## You may Ask... \n",
    "**<u>Q.</u>** Hey! I commited! Then why didn't it update in the remote?<br>\n",
    "**<u>A.</u>** Kind of a dumb question but dumb questions lead to some new inovations you know! Look at the history. Okay... what here is that `commit` is **NOT** a *network* command. Commit doesn't know about the remote or origin or something. It doesn't know what internet is!\n",
    "\n",
    "So, we have some network commands like:\n",
    "- `clone`\n",
    "- `fetch`\n",
    "- `pull`\n",
    "- `push`\n",
    "\n",
    "These ↑ guys are expert in the netowrking part. So the synchronization will only happen between the remote and the local, when we use any of these commands. You see!"
   ]
  },
  {
   "cell_type": "markdown",
   "metadata": {},
   "source": [
    "> ## Tracking branch acts as an *intermediatory* between<br>local and remote branches."
   ]
  },
  {
   "cell_type": "markdown",
   "metadata": {},
   "source": [
    "So, while *pushing* and *pulling* we use the tracking branch to tally up. If the histories are same (the commit histories, not yours!) then the action will happen otherwise we have to take extra steps."
   ]
  },
  {
   "cell_type": "markdown",
   "metadata": {},
   "source": [
    "> ## Tracking branch only moves with network command."
   ]
  },
  {
   "cell_type": "markdown",
   "metadata": {},
   "source": [
    "*The same image* <br><img src=\"./images/decoupled.png\" height=300 width=500><br>"
   ]
  },
  {
   "cell_type": "markdown",
   "metadata": {},
   "source": [
    "This ↑ really is a cool situation. Here, 3 branch labels are out of sync."
   ]
  },
  {
   "cell_type": "markdown",
   "metadata": {},
   "source": [
    "**Us** *(local)*: We only know that you (they) know till `C` <br>\n",
    "**They** *(remote)*: We only know that you (us) know till `C` <br>\n",
    "**Us** *(local)*: No man! We are at `D`! What the Fun! <br>\n",
    "**They** *(remote)*: Nonsense! We are on `E`. \n",
    "\n",
    "***`Me`***: Wai, Wai, Wai... I am here. <br>\n",
    "*(to be continued in upcoming next book under `pull` section...)*"
   ]
  },
  {
   "cell_type": "markdown",
   "metadata": {},
   "source": [
    "# "
   ]
  },
  {
   "cell_type": "markdown",
   "metadata": {},
   "source": [
    "## Viewing Tracking Branch Names<br>—"
   ]
  },
  {
   "cell_type": "markdown",
   "metadata": {},
   "source": [
    "```sh\n",
    "# Not to use ↓\n",
    "git branch\n",
    "\n",
    "# To Use ↓\n",
    "git branch --all\n",
    "```\n",
    "By default without `--all` we will list the local branch names."
   ]
  },
  {
   "cell_type": "markdown",
   "metadata": {},
   "source": [
    "<img src=\"./images/allBranches.png\" height=500 width=700>"
   ]
  },
  {
   "cell_type": "markdown",
   "metadata": {},
   "source": [
    "Now, see. We are getting LOCAL BRANCHES (*main* here just 1), REMOTE BRANCHES (Symbolic Reference and the Branch Itself). <br>\n",
    "> Only the **1st** and **3rd** line show the unique branches. The **2nd** line is the HEAD location in the remote. (More on that in a bit)"
   ]
  },
  {
   "cell_type": "markdown",
   "metadata": {},
   "source": [
    "#### One more thing,\n",
    "Notice the <font color=\"red\" face=\"consolas\"> remotes/</font><font face=\"consolas\" color=\"grey\">origin/...</font> <br>\n",
    "We have the that means, **there is one `remote`** directory where it has sotred the origin.\n",
    "\n",
    "Access the remotes here...\n",
    "\n",
    "     .git\n",
    "     |   ...\n",
    "     |   ...     /→ heads -|\n",
    "     +—→ refs —→ |→ remotes —→ origin\n",
    "         ...     \\→ tags  -|\n",
    "         ..."
   ]
  },
  {
   "cell_type": "markdown",
   "metadata": {},
   "source": [
    "Yes! Now along with `heads` and `tags` directory in .git, we have `remotes` directory. When you go inside it you will find HEAD file."
   ]
  },
  {
   "cell_type": "markdown",
   "metadata": {},
   "source": [
    "##### "
   ]
  },
  {
   "cell_type": "markdown",
   "metadata": {},
   "source": [
    "## (More on that in a bit) Section for remote HEAD <br>—\n",
    "**We can actully see the `log` of remote branch. (Reapeat: Only of Remote branch by ↓)**\n",
    "```sh\n",
    "git log origin/main --oneline\n",
    "```\n",
    "The command just wrote above, shows the commits of *that* branch. So the main branch of origin. <br>\n",
    "**BUT** as the origin/HEAD is ALSO pointing to the same branch, we can directly pass `origin` instead of `origin/main`.\n",
    "\n",
    "Man! As from the older books `git log` just requires the REFERENCE! If you don't give one, it will start from HEAD. By default. If you give one it will start from there! \n",
    "\n",
    "Even if you pass the reference of a commit (say the 3rd commit) it will show the log from there! Let's see the different combinations that you can pass. <br>\n",
    "—<br>\n",
    "The heirarchy is... <br>\n",
    "`origin → HEAD → main`\n",
    "```sh\n",
    "git log origin\n",
    "\n",
    "# Equals\n",
    "git log origin/HEAD\n",
    "\n",
    "# Equals\n",
    "git log origin/main\n",
    "```\n",
    "The reason I showed you this, is because in the situation of multiple branches, we may have the HEAD in remote repository pointing to another branch (say \"TempKaka\") branch. <br>\n",
    "So in that situation,\n",
    "```sh\n",
    "git log origin\n",
    "\n",
    "# Equals to\n",
    "git log origin/HEAD\n",
    "\n",
    "# BUT NOT Equals to\n",
    "git log origin/main\n",
    "```\n",
    "Because the origin/HEAD is pointing on TempKaka branch!"
   ]
  },
  {
   "cell_type": "markdown",
   "metadata": {},
   "source": [
    "# "
   ]
  },
  {
   "cell_type": "markdown",
   "metadata": {},
   "source": [
    "# <center> • New Knowledge •"
   ]
  },
  {
   "cell_type": "markdown",
   "metadata": {},
   "source": [
    "### Change the HEAD of origin (remote) to another branch.<br>—\n",
    "BEFORE <br>\n",
    "<img src=\"./images/beforeHEAD.png\" height=500 width=700>\n",
    "\n",
    "AFTER<br>\n",
    "<img src=\"./images/afterHEAD.png\" height=500 width=700>"
   ]
  },
  {
   "cell_type": "markdown",
   "metadata": {},
   "source": [
    "The command is:\n",
    "```sh\n",
    "git remote set-head origin <branch>\n",
    "```\n",
    "This command will change the HEAD position to the specified branch. We do this to avoid writing all long `origin/thatNotDefault_Branch` again and again... we make the another branch (here develop) as the default.\n",
    "\n",
    "### We can also\n",
    "Change the default branch to `develop` branch for all users, so next time any other person pulls or clones the repository, the HEAD is set to the `develop` instead of `main`.<br>\n",
    "It is done from the remote site → under main branch section."
   ]
  },
  {
   "cell_type": "markdown",
   "metadata": {},
   "source": [
    "#### Confusion?\n",
    "The confusion can be... if we can set the HEAD of remote from local, don't you think it will messup? I mean if changing HEAD is like `git checkout branch` doesn't it?"
   ]
  },
  {
   "cell_type": "markdown",
   "metadata": {},
   "source": [
    "The Answer is. No. <br>\n",
    "When we are cloning, we have the copies of branch from the remote. So, **only checking out will make changes in the working tree**. If we change the HEAD by `git remote set-head origin <branch>` it will set the HEAD to that branch BUT THAT HEAD is of ORIGIN!\n",
    "\n",
    "We have 2 HEADs.\n",
    "1. Our HEAD (local)\n",
    "2. Their HEAD (remote)\n",
    "\n",
    "So, it doesn't change the working tree if we change the remote HEAD. Why is that, is unclear at this point. But okay!\n",
    "<br>—<br>\n",
    "The summary of the discussion above (from new knowledge): <br>\n",
    "> We can change the remote head locally by `git remote set-head origin <branch>` command which makes it easy to see the logs. That's it."
   ]
  },
  {
   "cell_type": "markdown",
   "metadata": {},
   "source": [
    "# <center> • New Knowledge •"
   ]
  },
  {
   "cell_type": "markdown",
   "metadata": {},
   "source": [
    "The <u>tip of the tracking branch</u> also known as:<br>\n",
    "<pre>                        ↓↓↓↓↓↓↓↓↓↓ </pre>\n",
    "`origin/HEAD` == `origin` == `FETCH_HEAD` \n",
    "<pre>                        ↑↑↑↑↑↑↑↑↑↑ </pre>\n",
    "                                "
   ]
  },
  {
   "cell_type": "markdown",
   "metadata": {},
   "source": [
    "But it also becomes available when we run `git fetch` (more on that in the very next book)."
   ]
  },
  {
   "cell_type": "markdown",
   "metadata": {},
   "source": [
    "# "
   ]
  },
  {
   "cell_type": "markdown",
   "metadata": {},
   "source": [
    "## When you make commit on local <br>—\n",
    "<img src=\"./images/ahead1commit.png\" height=500 width=700>"
   ]
  },
  {
   "cell_type": "markdown",
   "metadata": {},
   "source": [
    "This is fine. The updation is from our side. If both sides update, we need to take care of that. (The conversation from above will be continued in the next book under `pull`)."
   ]
  },
  {
   "cell_type": "markdown",
   "metadata": {},
   "source": [
    "# "
   ]
  },
  {
   "cell_type": "markdown",
   "metadata": {},
   "source": [
    "# Next up,\n",
    "We will see the network commands! Fetch, Push, Pull (not clone because it is discussed)."
   ]
  }
 ],
 "metadata": {
  "kernelspec": {
   "display_name": "Python 3",
   "language": "python",
   "name": "python3"
  },
  "language_info": {
   "codemirror_mode": {
    "name": "ipython",
    "version": 3
   },
   "file_extension": ".py",
   "mimetype": "text/x-python",
   "name": "python",
   "nbconvert_exporter": "python",
   "pygments_lexer": "ipython3",
   "version": "3.8.5"
  }
 },
 "nbformat": 4,
 "nbformat_minor": 4
}
