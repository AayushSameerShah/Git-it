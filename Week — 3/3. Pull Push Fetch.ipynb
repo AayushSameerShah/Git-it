{
 "cells": [
  {
   "cell_type": "markdown",
   "metadata": {},
   "source": [
    "# `fetch`—`pull`—`push`"
   ]
  },
  {
   "cell_type": "markdown",
   "metadata": {},
   "source": [
    "We actually have 4:\n",
    "1. `clone`: Copies the remote \n",
    "2. `fetch`: Retrives new objs and refs from remote\n",
    "3. `pull`: Fetches and Merges commits locally\n",
    "4. `push`: Adds new objs and refs to remote\n",
    "\n",
    "We will see FPP here. *(You know what FPP stands for)*"
   ]
  },
  {
   "cell_type": "markdown",
   "metadata": {},
   "source": [
    "# "
   ]
  },
  {
   "cell_type": "markdown",
   "metadata": {},
   "source": [
    "# `fetch`<br>—"
   ]
  },
  {
   "cell_type": "markdown",
   "metadata": {},
   "source": [
    "Command:\n",
    "```sh\n",
    "git fetch <repository>\n",
    "\n",
    "# Default repository will be used if not provided in <repository>\n",
    "# only if there is 1 remote repository.\n",
    "```\n"
   ]
  },
  {
   "cell_type": "markdown",
   "metadata": {},
   "source": [
    "Main:\n",
    "> #### Fetch allows you to *download* and *view* changes from the remote repository without<br>immediately merge them into our current local invironment."
   ]
  },
  {
   "cell_type": "markdown",
   "metadata": {},
   "source": [
    "###### "
   ]
  },
  {
   "cell_type": "markdown",
   "metadata": {},
   "source": [
    "If you run `fetch` and nothing comes back..."
   ]
  },
  {
   "cell_type": "markdown",
   "metadata": {},
   "source": [
    "<img src=\".\\images\\Fetch_nothing_came.png\">"
   ]
  },
  {
   "cell_type": "markdown",
   "metadata": {},
   "source": [
    "Means, there was nothing updated on the remote branch. <br>\n",
    "Means, we can be ahead of the remote repository by some commits—but also<br>\n",
    "Means, we can be same as the remote repository.<br>\n",
    "—<br>\n",
    "Means, there is no updation from the remote site."
   ]
  },
  {
   "cell_type": "markdown",
   "metadata": {},
   "source": [
    "###### "
   ]
  },
  {
   "cell_type": "markdown",
   "metadata": {},
   "source": [
    "If you run `fetch` and something comes back..."
   ]
  },
  {
   "cell_type": "markdown",
   "metadata": {},
   "source": [
    "<img src=\".\\images\\Fetch_something_came.png\">"
   ]
  },
  {
   "cell_type": "markdown",
   "metadata": {},
   "source": [
    "Now, fetch has got the updated things. So, now `without using` PULL, we know that there is something on the remote side which is not in our side. \n",
    "\n",
    "If you use `git status` some different thing will comeup.<br>\n",
    "<img src=\"./images/fetch_status_came.png\"> "
   ]
  },
  {
   "cell_type": "markdown",
   "metadata": {},
   "source": [
    "Which means, something changed there, which is unknown to us. (This is the exactly the reverse situation than the one in which we had our local commit ahead)"
   ]
  },
  {
   "cell_type": "markdown",
   "metadata": {},
   "source": [
    "—"
   ]
  },
  {
   "cell_type": "markdown",
   "metadata": {},
   "source": [
    "#### What if both (local and remote) are 1 - 1 commits ahead but they don't know why?\n",
    "In such situation, if we fetch and check the status, we will get ↓<br>\n",
    "<img src=\"./images/fetch_detatched_11_ahead.png\">"
   ]
  },
  {
   "cell_type": "markdown",
   "metadata": {},
   "source": [
    "# "
   ]
  },
  {
   "cell_type": "markdown",
   "metadata": {},
   "source": [
    "#### What `fetch`...\n",
    "**Does**:\n",
    "- **Updates** the tracking branch labels.\n",
    "- `git status` will become **aware** of changes.\n",
    "- **New commit** (from the remote) will be **available** in the log (if use --all)\n",
    "- We **can checkout** to that commit (which are in the remote but not in local) <br> \n",
    "but that will lead to the \"detatched HEAD\" state.\n",
    "- The cool thing is, we will have the **NEW VERSIONS** of the file if we checkout<br> (like the point above) but that is unofficial as we have to use --all and check the commit id\n",
    "\n",
    "**Doesn't**:\n",
    "- It doesn't officially move our HEAD to the latest commit\n",
    "- It just allows us to *view* the remote changes before we actully merge them"
   ]
  },
  {
   "cell_type": "markdown",
   "metadata": {},
   "source": [
    "# "
   ]
  },
  {
   "cell_type": "markdown",
   "metadata": {},
   "source": [
    "# `pull`<br>—"
   ]
  },
  {
   "cell_type": "markdown",
   "metadata": {},
   "source": [
    "This command is the combination of: <br>\n",
    "```sh\n",
    "git fetch + git merge FETCH_HEAD\n",
    "```\n",
    "Note, the second is the `git merge` itself. So after fetching, instead of pull... wait this deserves special mention."
   ]
  },
  {
   "cell_type": "markdown",
   "metadata": {},
   "source": [
    "# <center> • New Knowledge • </center>\n",
    "———<br>\n",
    "After fetching, the trackers will be updated. Alright. I decided to merge the new updates. So I have to use `git pull` but wait. For some reason (I don't know what the reason can be... but say I get expert at git and want to show case tha \"Hey I know internals... then) I *don't want to use* `git pull` but as the updates (and also the files!) as already downloaded but not merged, I don't wan to use pull.\n",
    "\n",
    "After fetch, if I want to directly merge them, I can use:\n",
    "```sh\n",
    "git merge FETCH_HEAD\n",
    "```\n",
    "Yes!\n",
    "<br>———"
   ]
  },
  {
   "cell_type": "markdown",
   "metadata": {},
   "source": [
    "##### "
   ]
  },
  {
   "cell_type": "markdown",
   "metadata": {},
   "source": [
    "How to pull: <br>\n",
    "```sh\n",
    "git pull [<repository>] [<branch>]\n",
    "```\n",
    "As said, `git pull` also merges. So there are the merging options.\n",
    "```sh\n",
    "# Merge options\n",
    "\n",
    "--ff       # FF if possible otherwise MCM\n",
    "--no-ff    # Not FF - just use MCM!\n",
    "--ff-only  # Just FF! Fail if not possible\n",
    "--rebase   # Later\n",
    "```\n"
   ]
  },
  {
   "cell_type": "markdown",
   "metadata": {},
   "source": [
    "Okay! Now we know that what pull basically does, we can see some extra amazing things."
   ]
  },
  {
   "cell_type": "markdown",
   "metadata": {},
   "source": [
    "### The conversation continues..."
   ]
  },
  {
   "cell_type": "markdown",
   "metadata": {},
   "source": [
    "**Us** *(local)*: We only know that you (they) know till `C` <br>\n",
    "**They** *(remote)*: We only know that you (us) know till `C` <br>\n",
    "**Us** *(local)*: No man! We are at `D`! What the Fun! <br>\n",
    "**They** *(remote)*: Nonsense! We are on `E`. \n",
    "\n",
    "***`Me`***: Wai, Wai, Wai... I am here. <br>\n",
    "[Us & They are thinking who is this guy!] <br>\n",
    "***`Me`***: I have an amazing command called `pull`. This will merge both of your works. We respect both of you and your work. <br>\n",
    "[**Us** & **They** thankingly]: Thanks man! You are the saver.\n"
   ]
  },
  {
   "cell_type": "markdown",
   "metadata": {},
   "source": [
    "So, now we have the same situation. Where the local & remote both have different commits.<br>\n",
    "<img src=\"./images/different_histories.png\" height=500 width=700>"
   ]
  },
  {
   "cell_type": "markdown",
   "metadata": {},
   "source": [
    "Now, this will act like we are merging 2 branches."
   ]
  },
  {
   "cell_type": "markdown",
   "metadata": {},
   "source": [
    "### In the situation when...\n",
    "→ We have done some change in the FILE1. <br>\n",
    "→ Now, WITHOUT COMMITING, we are trying to `pull` <br>\n",
    "→ The same file FILE1 is likely to be replaced! We don't want that! So, git will alert us to commit that update or stash it.<br>\n",
    "→ Git will **Abort** the pull (and merge)."
   ]
  },
  {
   "cell_type": "markdown",
   "metadata": {},
   "source": [
    "### BUTT! (not that one)\n",
    "→ If we have updated the FILE1. (locally)<br>\n",
    "→ The change is in FILE2 (remotely)<br>\n",
    "→ FILE1 is not commited.<br>\n",
    "→ We are trying the `pull`. <br>\n",
    "→ git **will not abort** the pull and merge. Because both files are seperate."
   ]
  },
  {
   "cell_type": "markdown",
   "metadata": {},
   "source": [
    "### In Summary of the above 2 situations\n",
    "- Git will ONLY abort the merge when the same file is not commited.\n",
    "- It won't abort when \"A\" file is not commited and \"B\" file is to be pulled. "
   ]
  },
  {
   "cell_type": "markdown",
   "metadata": {},
   "source": []
  },
  {
   "cell_type": "markdown",
   "metadata": {},
   "source": []
  },
  {
   "cell_type": "markdown",
   "metadata": {},
   "source": []
  },
  {
   "cell_type": "markdown",
   "metadata": {},
   "source": []
  }
 ],
 "metadata": {
  "kernelspec": {
   "display_name": "Python 3",
   "language": "python",
   "name": "python3"
  },
  "language_info": {
   "codemirror_mode": {
    "name": "ipython",
    "version": 3
   },
   "file_extension": ".py",
   "mimetype": "text/x-python",
   "name": "python",
   "nbconvert_exporter": "python",
   "pygments_lexer": "ipython3",
   "version": "3.8.5"
  }
 },
 "nbformat": 4,
 "nbformat_minor": 4
}
