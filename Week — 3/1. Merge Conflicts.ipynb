{
 "cells": [
  {
   "cell_type": "markdown",
   "metadata": {},
   "source": [
    "# Conflict while Merging\n",
    "Known as \"Merge Conflict\"!! *(That wasn't new)*"
   ]
  },
  {
   "cell_type": "markdown",
   "metadata": {},
   "source": [
    "# . . ."
   ]
  },
  {
   "cell_type": "markdown",
   "metadata": {},
   "source": [
    "# "
   ]
  },
  {
   "cell_type": "markdown",
   "metadata": {},
   "source": [
    "## When does it happen?<br>—\n",
    "Don't worry about the `Fast-Forward Merge` because it is a linear merge. Here, things will be easy and you will only be allowed to merge if the `main` branch doesn't have any other commits after the new branch was created.\n",
    "\n",
    "So,<br>\n",
    "The problem is only when you are trying to perform the **\"Merge Commit merge\"**. (Please forget about the other 2 types of merges ie. Squash & Rebase for now as it will be covered later and is not like the \"merge\" as we understand.)\n",
    "\n",
    "Here, (in Merge Commit Merge - *MCM*) we are usually in the non linear situation where we have multiple branches and each of them having different \"tips\" of commits of versions of files. Here, it happens the `Merge Conflict`.\n"
   ]
  },
  {
   "cell_type": "markdown",
   "metadata": {},
   "source": [
    "> ### Here is the situation where<br> a person needs to make a decision."
   ]
  },
  {
   "cell_type": "markdown",
   "metadata": {},
   "source": [
    "###### "
   ]
  },
  {
   "cell_type": "markdown",
   "metadata": {},
   "source": [
    "## Especially, what is Merge Conflict?<br>—"
   ]
  },
  {
   "cell_type": "markdown",
   "metadata": {},
   "source": [
    "Actually, **not everytime** you will be having the Merge Conflict while performing MCM. The merge conflict arises when 2 commits (can be more than 2 but understand the situation please) are having the \"**different versions of the same file**\".\n",
    "\n",
    "Yes, so to delibrately make the merge conflict, you need to have the same file in different commits with different content in them.\n",
    "\n",
    "—<br>Okay, not making it much complicated than it is, in simple words:\n",
    "> Merge conflict is the situation when the commiting files are having different content in them on the same time."
   ]
  },
  {
   "cell_type": "markdown",
   "metadata": {},
   "source": [
    "### —<br>It's when you ***WILL*** have merge conflict ↓"
   ]
  },
  {
   "cell_type": "markdown",
   "metadata": {},
   "source": [
    "<img src=\"./images/conflict.png\" height=400 width=600>"
   ]
  },
  {
   "cell_type": "markdown",
   "metadata": {},
   "source": [
    "### —<br>It's when you ***WILL NOT*** have merge conflict ↓"
   ]
  },
  {
   "cell_type": "markdown",
   "metadata": {},
   "source": [
    "<img src=\"./images/non-conflict.png\" height=400 width=600>"
   ]
  },
  {
   "cell_type": "markdown",
   "metadata": {},
   "source": [
    "###### "
   ]
  },
  {
   "cell_type": "markdown",
   "metadata": {},
   "source": [
    "# <center> • SPECIAL MENTION •"
   ]
  },
  {
   "cell_type": "markdown",
   "metadata": {},
   "source": [
    "### —<br>It's ***ALSO*** when you ***WILL NOT*** have merge conflict ↓"
   ]
  },
  {
   "cell_type": "markdown",
   "metadata": {},
   "source": [
    "<img src=\"./images/non-conflict 2.png\" height=400 width=600>"
   ]
  },
  {
   "cell_type": "markdown",
   "metadata": {},
   "source": [
    "**↑ Explanation ↑** : <br>\n",
    "Here the conflict won't happen because, the SAME thing is not updated in both branches. Yes, we have worked in the same file but in the different parts. So there will not be any conflict. \n",
    "\n",
    "Git is smart enough to see that is there a merge conflict or not. It can track back to the older commits to decide that which part is old and which is not. <br>\n",
    "—\n",
    "\n",
    "Here is *How I think* that *How git thinks*: <br>\n",
    "Here, git can compare the file from it's origin file version. If both file DOESN'T have changed the SAME portion of the file then it is okay (ie no merge conflict). Here, the origin file has `feature 1 bug, feature 2`. While merging, `B` and `C` commit, git compared both `B` and `C`'s files to the original file in `A` (origin). It got to know that `B` has only changed `feature 3` (added new) and hasn't changed the origin content. And also in the same time `C` has not added but changed `feature 1` here, `B` and `C` haven't done the same thing in at same place. That means it is good to merge and there is no conflict.\n",
    "\n",
    "I know, this sounds complicated but we don't actully have to care about all this. This is the `Recursive` strategy. It happens behind the scenes. git compares and goes to the origin (called ***common ancestor***) and checks... all these happen recursively. "
   ]
  },
  {
   "cell_type": "markdown",
   "metadata": {},
   "source": [
    "**Which strategy?**\n",
    "```sh\n",
    "# Recursive (default)\n",
    "git merge -s recursive branch1 branch2\n",
    "\n",
    "# Resolve\n",
    "git merge -s resolve branch1 branch2\n",
    "\n",
    "# Octopus\n",
    "git merge -s octopus branch1 branch2 branch3 branchN\n",
    "\n",
    "# Ours\n",
    "git merge -s ours branch1 branch2 branchN\n",
    "\n",
    "# Subtree\n",
    "git merge -s subtree branchA branchB\n",
    "```"
   ]
  },
  {
   "cell_type": "markdown",
   "metadata": {},
   "source": [
    "Oh! There are so many! Please use [this simple to follow doc](https://www.atlassian.com/git/tutorials/using-branches/merge-strategy)."
   ]
  },
  {
   "cell_type": "markdown",
   "metadata": {},
   "source": [
    "#### Term: *`hunk`*\n",
    "The part of code calling it ~*`chunk`*~ is called *`hunk`*."
   ]
  },
  {
   "cell_type": "markdown",
   "metadata": {},
   "source": [
    "# "
   ]
  },
  {
   "cell_type": "markdown",
   "metadata": {},
   "source": [
    "## Resolving conflict<br>—"
   ]
  },
  {
   "cell_type": "markdown",
   "metadata": {},
   "source": [
    "While resolving, git has to deal with (minimum) 3 commits.\n",
    "1. **\"Our\" / \"Mine\"** commit (main branch's)\n",
    "2. **\"Their\"** commit (new branch's)\n",
    "3. **\"Common ancestor\"** commit (common / origin branch's)\n",
    "\n",
    "See this ↓<br>\n",
    "<img src=\"./images/mine and their.png\" height=400 width=600>"
   ]
  },
  {
   "cell_type": "markdown",
   "metadata": {},
   "source": [
    "## STEPS TO RESOLVE (wordly)<br>—"
   ]
  },
  {
   "cell_type": "markdown",
   "metadata": {},
   "source": [
    "1. **Checkout** `main`\n",
    "\n",
    "2. **Merge** `branchs`\n",
    "    1. Here git will show the error\n",
    "    2. Git will **also** place the Conflicting file in your working tree\n",
    "    3. *Re-read the B ↑ point*\n",
    "    4. *Re-read the C ↑ point*\n",
    "    5. *Re-read the D ↑ point* (So So Cool)\n",
    "\n",
    "\n",
    "3. **Fix** the file manually (conflict resolve)\n",
    "\n",
    "4. Now that conflicting file is in the working tree. You resolved it. Good.<br>\n",
    "Now just **stage** it again so it becomes the part of next commit.\n",
    "\n",
    "5. Now, **commit** the merge!\n",
    "\n",
    "6. Optionally **delete** the branch label."
   ]
  },
  {
   "cell_type": "markdown",
   "metadata": {},
   "source": [
    "##### "
   ]
  },
  {
   "cell_type": "markdown",
   "metadata": {},
   "source": [
    "## STEPS TO RESOLVE (commandly)<br>—"
   ]
  },
  {
   "cell_type": "markdown",
   "metadata": {},
   "source": [
    "1. **Checkout** `main`\n",
    "```sh\n",
    "git checkout main\n",
    "```\n",
    "\n",
    "\n",
    "2. **Merge** `branchs`\n",
    "```sh\n",
    "git merge <branch>\n",
    "```\n",
    "\n",
    "\n",
    "3. **Fix** the file manually (conflict resolve)\n",
    "```sh\n",
    "# Remove or Add or Fix between <<<<< >>>>> area.\n",
    "```\n",
    "\n",
    "\n",
    "4. Now that conflicting file is in the working tree. You resolved it. Good. Now just **stage** it again so it becomes the part of next commit.\n",
    "```sh\n",
    "git add <file>\n",
    "```\n",
    "\n",
    "\n",
    "5. Now, **commit** the merge!\n",
    "```sh\n",
    "git commit -m \"Resolved! And Merged\"\n",
    "```\n",
    "\n",
    "\n",
    "6. Optionally **delete** the branch label.\n",
    "```sh\n",
    "git branch -d <branch>\n",
    "```"
   ]
  },
  {
   "cell_type": "markdown",
   "metadata": {},
   "source": [
    "##### That works amazingly!"
   ]
  },
  {
   "cell_type": "markdown",
   "metadata": {},
   "source": [
    "# "
   ]
  },
  {
   "cell_type": "markdown",
   "metadata": {},
   "source": [
    "# <center>• Special Mention •"
   ]
  },
  {
   "cell_type": "markdown",
   "metadata": {},
   "source": [
    "When there is the conflict in merging... you will get the message \n",
    "> \"The conflicted file has been placed in the working directory please resolve the conflict\".\n",
    "\n",
    "Now, from here, you will see that the git will no longer be in the ideal state (see in the last - instead of `(main)` it will show `(main | MERGING)` in the console).\n",
    "\n",
    "Which means, now git is in the merge conflict phase.<br>\n",
    "—\n",
    "\n",
    "Before<br>\n",
    "<img src=\"./images/beforeMerge.png\"><br>\n",
    "\n",
    "After<br>\n",
    "<img src=\"./images/duringMerge.png\">"
   ]
  },
  {
   "cell_type": "markdown",
   "metadata": {},
   "source": [
    "### — What happens in the **`MergningPhase`**?\n",
    "During the merging phase,\n",
    "1. We can't commit any othee files\n",
    "2. We can't change the branches\n",
    "3. Or some other file related stuff than the conflicted file.\n",
    "\n",
    "In this phase, git expects that we are only working to resolve ***that*** file. In which we have to remove the marks and fix the conflicting hunk.\n",
    "##### \n",
    "### — So what can we do?\n",
    "`EITHER`<br>\n",
    "We can simply go in that file and make changes and then commit that file. <br>\n",
    "`OR`<br>\n",
    "There is a <u>special command</u> to get out of this mergning phase.\n",
    "```sh\n",
    "git merge --abort\n",
    "```"
   ]
  },
  {
   "cell_type": "markdown",
   "metadata": {},
   "source": [
    "#### "
   ]
  },
  {
   "cell_type": "markdown",
   "metadata": {},
   "source": [
    "### — What `git merge --abort` will do?\n",
    "It will...\n",
    "1. Remove the marks (>>> === <<<) from the conflicted file.\n",
    "2. It will unstage all the files which **IF** we made during the merge phase (remember those file which are tried to commit but not commited because of the merge phase).\n",
    "3. Everything will be back to normal as it was before pressing the \"merge\" command."
   ]
  },
  {
   "cell_type": "markdown",
   "metadata": {},
   "source": [
    "# "
   ]
  },
  {
   "cell_type": "markdown",
   "metadata": {},
   "source": [
    "# That was great!\n",
    "After resolving the merge and understanding what is going on in there, you will feel amazing that you have solved something! Next up, we will see the tracking branches."
   ]
  }
 ],
 "metadata": {
  "kernelspec": {
   "display_name": "Python 3",
   "language": "python",
   "name": "python3"
  },
  "language_info": {
   "codemirror_mode": {
    "name": "ipython",
    "version": 3
   },
   "file_extension": ".py",
   "mimetype": "text/x-python",
   "name": "python",
   "nbconvert_exporter": "python",
   "pygments_lexer": "ipython3",
   "version": "3.8.5"
  }
 },
 "nbformat": 4,
 "nbformat_minor": 4
}
