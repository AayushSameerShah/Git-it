{
 "cells": [
  {
   "cell_type": "markdown",
   "metadata": {},
   "source": [
    "# Histories can be rewritten *in git*."
   ]
  },
  {
   "cell_type": "markdown",
   "metadata": {},
   "source": [
    "#  . . ."
   ]
  },
  {
   "cell_type": "markdown",
   "metadata": {},
   "source": [
    "###### "
   ]
  },
  {
   "cell_type": "markdown",
   "metadata": {},
   "source": [
    "## We can change...<br>—\n",
    "**The MOST recent commit** by changing the <u>commit message</u> and changing the <u>project files</u>. Which well, will change the SHA-1 values too.<br>\n",
    "Let's see how."
   ]
  },
  {
   "cell_type": "markdown",
   "metadata": {},
   "source": [
    "# How<br>—\n",
    "\n",
    "#### Updating Message Only\n",
    "___\n",
    "Let's say, while commiting,<br>—instead of writing ↓\n",
    ">\"Added addition and removed subtraction\" \n",
    "\n",
    "—we wrote ↓\n",
    "\n",
    ">\"Added subtraction and removed addition\"\n",
    "\n",
    "**So, change the message by ↓**\n",
    "```sh\n",
    "# Changing commit message\n",
    "git commit --amend -m \"New Message\"\n",
    "```"
   ]
  },
  {
   "cell_type": "markdown",
   "metadata": {},
   "source": [
    "It is easy! After the `--amend` (which means \"સુધારો\") the new SHA-1 value for the commit will be created. (Old one will be deleted)"
   ]
  },
  {
   "cell_type": "markdown",
   "metadata": {},
   "source": [
    "###### "
   ]
  },
  {
   "cell_type": "markdown",
   "metadata": {},
   "source": [
    "#### Updating Files\n",
    "____\n",
    "Let's say while commiting,<br>\n",
    "—instead of writing ↓\n",
    ">  `i = i + 2`<br>\n",
    "\n",
    "—we wrote ↓\n",
    ">  `i = i - 2`<br>\n",
    "\n",
    "**Holy Moly!** We now need to make a new commit! Just for a single character change?<br>\n",
    "No. <br>\n",
    "We can directly change the files in the commit. This way ↓\n",
    "```sh\n",
    "\n",
    "# 1. Change the file content by opening\n",
    "#    the file and fixing the typo\n",
    "\n",
    "# 2. then...\n",
    "git commit --amend -m \"Fixed Typo\"\n",
    "```\n",
    "WTFun? That's the same command? Don't mess with me!<br>\n",
    "No! Really! `--amend` does all for us. "
   ]
  },
  {
   "cell_type": "markdown",
   "metadata": {},
   "source": [
    "###### "
   ]
  },
  {
   "cell_type": "markdown",
   "metadata": {},
   "source": [
    "## What `--amend` does?<br>—\n",
    "No matter what you want to do, whether you *just* want to change the message or to fix the typo in the files, `--amend` will change ***both***. Yes both.\n",
    "\n",
    "**If you don't want to pass the message like \"fixed typo\" but want to pass the same commit message as before** you can do this by,\n",
    "```sh\n",
    "git commit --amend --no-edit\n",
    "```\n",
    "The `--no-edit` will use the same commit message and use it as for now. Cool!"
   ]
  },
  {
   "cell_type": "markdown",
   "metadata": {},
   "source": [
    "# "
   ]
  },
  {
   "cell_type": "markdown",
   "metadata": {},
   "source": [
    "# That was nice.\n",
    "Now, in the next book, we will take a look at **Interactive Rebase**. It is the version of Rewriting History but it requires a special attention. Let's get there."
   ]
  }
 ],
 "metadata": {
  "kernelspec": {
   "display_name": "Python 3",
   "language": "python",
   "name": "python3"
  },
  "language_info": {
   "codemirror_mode": {
    "name": "ipython",
    "version": 3
   },
   "file_extension": ".py",
   "mimetype": "text/x-python",
   "name": "python",
   "nbconvert_exporter": "python",
   "pygments_lexer": "ipython3",
   "version": "3.8.5"
  }
 },
 "nbformat": 4,
 "nbformat_minor": 4
}
