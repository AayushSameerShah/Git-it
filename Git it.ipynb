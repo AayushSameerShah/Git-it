{
 "cells": [
  {
   "cell_type": "markdown",
   "metadata": {},
   "source": [
    "# Hey Man!\n",
    "This is the course that is just after completing Plotly. Now, wai... let's add the date first.\n",
    "<pre> Started: 1st Sep 2021 </pre>"
   ]
  },
  {
   "cell_type": "markdown",
   "metadata": {},
   "source": [
    "Alright, now it is set up. So, you may ask \"WHAT?\" because, I don't ususaly make notebooks for the courses that are from coursera, but this time, I thought to. Here, I will not explain things like I did before but instead the little cheat sheet type of stuff will be here.\n",
    "\n",
    "There will be the notebooks in markdown and you will be able to view the commands and their brief explanation. I will try not to try the exception cases, because my aim to learn the Git, is to get work done in an intermediate level, but not at an expert level. If I were in the programming field, I must have to learn in the master level but for now, as a Data Scientist, I need enough knowledge about git (as I have a lot of stuff in my bag to learn about DS already!)\n",
    "\n",
    "Let's get started without much talk. Meet you in the Week — 1."
   ]
  }
 ],
 "metadata": {
  "kernelspec": {
   "display_name": "Python 3",
   "language": "python",
   "name": "python3"
  },
  "language_info": {
   "codemirror_mode": {
    "name": "ipython",
    "version": 3
   },
   "file_extension": ".py",
   "mimetype": "text/x-python",
   "name": "python",
   "nbconvert_exporter": "python",
   "pygments_lexer": "ipython3",
   "version": "3.8.5"
  }
 },
 "nbformat": 4,
 "nbformat_minor": 4
}
