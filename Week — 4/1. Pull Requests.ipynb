{
 "cells": [
  {
   "cell_type": "markdown",
   "metadata": {},
   "source": [
    "# We have a change... <br>Will you accept our contribution?\n"
   ]
  },
  {
   "cell_type": "markdown",
   "metadata": {},
   "source": [
    "#  . . ."
   ]
  },
  {
   "cell_type": "markdown",
   "metadata": {},
   "source": [
    "###### "
   ]
  },
  {
   "cell_type": "markdown",
   "metadata": {},
   "source": [
    "## Pull Requests<br>—\n",
    "The ultimate goal is to *merge* a local branch into the main project."
   ]
  },
  {
   "cell_type": "markdown",
   "metadata": {},
   "source": [
    "###### "
   ]
  },
  {
   "cell_type": "markdown",
   "metadata": {},
   "source": [
    "## When the Pull Requests <br>are generally created<br>—\n",
    "- When the branch is created\n",
    "        This creates the team to begin the discussion about the branch\n",
    "        \n",
    "        \n",
    "- When you want comments on the branch\n",
    "        It is the situation when coding, you stuck at some problem and\n",
    "        want the ideas or suggestions from others.\n",
    "        \n",
    "        \n",
    "- When the work is ready for merge / review"
   ]
  },
  {
   "cell_type": "markdown",
   "metadata": {},
   "source": [
    "# "
   ]
  },
  {
   "cell_type": "markdown",
   "metadata": {},
   "source": [
    "It is easy. Just create a push and on the remote side create a pull request.<br>\n",
    "They will approve it or decline it.\n",
    "\n",
    "**Basic Steps:**\n",
    "- Push the branch there (yes! even if you are not the contributor, you can push but instead it will be created as a pull request)\n",
    "- Then go there and create a pull request from the GUI, select the branch and great!\n",
    "- Then the request will be merged.\n",
    "\n",
    "If you are only the one, who control everything then you might not need to create the pull request unless you want to get your code reviewed. But you will need to make one when you are contributing to someone else's repository.\n",
    "\n",
    "Let's see what steps to take then."
   ]
  },
  {
   "cell_type": "markdown",
   "metadata": {},
   "source": [
    "# "
   ]
  },
  {
   "cell_type": "markdown",
   "metadata": {},
   "source": [
    "## Now, if there is the repository of someone else...<br>—\n",
    "We would already have `forked` the repository to our online account or have just cloned it.\n",
    "\n",
    "**When we fork a repository...**<br>\n",
    "by default, our version will not contain the *original repository* commits.\n",
    "\n",
    "**Creating a pull request in forked repository**<br>\n",
    "We have to create a pull request in the forked repository. GitHub knows that it is the forked repository so the pull request will reflect at the original repository as well."
   ]
  },
  {
   "cell_type": "markdown",
   "metadata": {},
   "source": [
    "# "
   ]
  },
  {
   "cell_type": "markdown",
   "metadata": {},
   "source": [
    "# Cool!\n",
    "I haven't done any steps here, because that you will learn by doing in the industry."
   ]
  },
  {
   "cell_type": "markdown",
   "metadata": {},
   "source": [
    "# "
   ]
  }
 ],
 "metadata": {
  "kernelspec": {
   "display_name": "Python 3",
   "language": "python",
   "name": "python3"
  },
  "language_info": {
   "codemirror_mode": {
    "name": "ipython",
    "version": 3
   },
   "file_extension": ".py",
   "mimetype": "text/x-python",
   "name": "python",
   "nbconvert_exporter": "python",
   "pygments_lexer": "ipython3",
   "version": "3.8.5"
  }
 },
 "nbformat": 4,
 "nbformat_minor": 4
}
