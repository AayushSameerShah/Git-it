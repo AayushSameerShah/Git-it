{
 "cells": [
  {
   "cell_type": "markdown",
   "metadata": {},
   "source": [
    "# DevOps and Git\n",
    "*Actully sorry for the same H1 header there, as I couldn't think of new header for now.*"
   ]
  },
  {
   "cell_type": "markdown",
   "metadata": {},
   "source": [
    "# . . ."
   ]
  },
  {
   "cell_type": "markdown",
   "metadata": {},
   "source": [
    "#### "
   ]
  },
  {
   "cell_type": "markdown",
   "metadata": {},
   "source": [
    "Git is the fundamental to DevOps. "
   ]
  },
  {
   "cell_type": "markdown",
   "metadata": {},
   "source": [
    "## 1. Continuous Improvement<br>—\n",
    "1. `DevOps'` Fundamendtal principal: Plan, Build, Release small improvements to the products<br>\n",
    "This is the contrast of the **Waterfall** approach where many features are plan → released in one batch.\n",
    "\n",
    "2. `Small Batch Size`: Even if the single small bug is removed, the new product is called \"Different Version\"\n",
    "3. `New Features Addition`: ..."
   ]
  },
  {
   "cell_type": "markdown",
   "metadata": {},
   "source": [
    "### "
   ]
  },
  {
   "cell_type": "markdown",
   "metadata": {},
   "source": [
    "## 2. How Git Helps Manage Versions<br>—\n",
    "1. Each version is called a `Commit`\n",
    "2. Git is so capable that it can track even small changes done to the project. A single file, a single line, a single word change is a change.\n",
    "3. Each commit is the snapshot of entire project.\n",
    "4. Git doesn't store *copies*, it stores the unique files.\n",
    "5. We can go back to the previous all commits\n",
    "    - **Either** going back to that *old* commit.\n",
    "    - **Or** making a new commit replicating the old commit."
   ]
  },
  {
   "cell_type": "markdown",
   "metadata": {},
   "source": [
    "### "
   ]
  },
  {
   "cell_type": "markdown",
   "metadata": {},
   "source": [
    "## 3. Branches<br>—\n",
    "\"*All commits belong to a branch*\"\n",
    "1. Independent development line of the project.\n",
    "2. We create a new branch and work independently from the main branch.\n",
    "3. Helps to scale the team their work."
   ]
  },
  {
   "cell_type": "markdown",
   "metadata": {},
   "source": [
    "### "
   ]
  },
  {
   "cell_type": "markdown",
   "metadata": {},
   "source": [
    "## 4. Pull Requests<br>—\n",
    "\"*Merginig independent branches*\"\n",
    "1. During the pull request, team members can disccuss the changes.\n",
    "2. You can also require the `passing automated tests`. To check whether the changes are stable.\\"
   ]
  },
  {
   "cell_type": "markdown",
   "metadata": {},
   "source": [
    "# . . ."
   ]
  },
  {
   "cell_type": "markdown",
   "metadata": {},
   "source": [
    "###### "
   ]
  },
  {
   "cell_type": "markdown",
   "metadata": {},
   "source": [
    "**Git in one paragraph**:\n",
    "> Git is the fundamental in DevOps. It manages many small improvements to the projects throug **Commits**. It also allows simultaneous stability and development through **Branches** and improves product quality through **Pull Requests**."
   ]
  },
  {
   "cell_type": "markdown",
   "metadata": {},
   "source": [
    "# "
   ]
  },
  {
   "cell_type": "markdown",
   "metadata": {},
   "source": [
    "# Next Up,\n",
    "We will get the overview of Git."
   ]
  }
 ],
 "metadata": {
  "kernelspec": {
   "display_name": "Python 3",
   "language": "python",
   "name": "python3"
  },
  "language_info": {
   "codemirror_mode": {
    "name": "ipython",
    "version": 3
   },
   "file_extension": ".py",
   "mimetype": "text/x-python",
   "name": "python",
   "nbconvert_exporter": "python",
   "pygments_lexer": "ipython3",
   "version": "3.8.5"
  }
 },
 "nbformat": 4,
 "nbformat_minor": 4
}
