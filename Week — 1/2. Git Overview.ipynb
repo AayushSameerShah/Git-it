{
 "cells": [
  {
   "cell_type": "markdown",
   "metadata": {},
   "source": [
    "# Version Control"
   ]
  },
  {
   "cell_type": "markdown",
   "metadata": {},
   "source": [
    "# . . ."
   ]
  },
  {
   "cell_type": "markdown",
   "metadata": {},
   "source": [
    "###### "
   ]
  },
  {
   "cell_type": "markdown",
   "metadata": {},
   "source": [
    "**Version Control in**:\n",
    "1. Content\n",
    "    - Complete history of the project\n",
    "2. Teams\n",
    "    - Supports many workflows\n",
    "    - Collaboration\n",
    "    - Quality through team collaboration and review\n",
    "3. Agility\n",
    "    - Manage small change\n",
    "    - Adapt quickly and constructlively\n",
    "    - Easily test, fix, undo ideas"
   ]
  },
  {
   "cell_type": "markdown",
   "metadata": {},
   "source": [
    "**There also is DVCs** or Distributed Version Control Systems which is GitHub."
   ]
  },
  {
   "cell_type": "markdown",
   "metadata": {},
   "source": [
    "###### "
   ]
  },
  {
   "cell_type": "markdown",
   "metadata": {},
   "source": [
    "### Why Command Line?\n",
    "- CMD skills are assumed by industry\n",
    "- Automatable\n",
    "- Fast and Easy (Wait, Easy?)"
   ]
  },
  {
   "cell_type": "markdown",
   "metadata": {},
   "source": [
    "# "
   ]
  },
  {
   "cell_type": "markdown",
   "metadata": {},
   "source": [
    "## Basic Syntax\n",
    "Git follows this basic syntax for all of its commands ↓<br>\n",
    "`git` `command` `[--flags]` `[arguments]`"
   ]
  },
  {
   "cell_type": "markdown",
   "metadata": {},
   "source": [
    "###### "
   ]
  },
  {
   "cell_type": "markdown",
   "metadata": {},
   "source": [
    "## Get Git Help\n",
    "FULL VERSION:<br>\n",
    "```shell\n",
    "git help <command>\n",
    "```\n",
    "\n",
    "CONSISE VERSION:<br>\n",
    "```shell\n",
    "git <command> -h\n",
    "```"
   ]
  },
  {
   "cell_type": "markdown",
   "metadata": {},
   "source": [
    "###### "
   ]
  },
  {
   "cell_type": "markdown",
   "metadata": {},
   "source": [
    "## Configure Details\n",
    "`git config [--local | --global | --system] <key> [<value>]`\n"
   ]
  },
  {
   "cell_type": "markdown",
   "metadata": {},
   "source": [
    "**Note**: You can also set the --local values. So if both (in --local and --global level) same variables are defiend, the ***local values take precedence.***<br>\n",
    "—<br>\n",
    "Precedence: `Local > Global > System`"
   ]
  },
  {
   "cell_type": "markdown",
   "metadata": {},
   "source": [
    "###### "
   ]
  },
  {
   "cell_type": "markdown",
   "metadata": {},
   "source": [
    "## Get the already set details\n",
    "```shell\n",
    "git config <variable.var>\n",
    "```\n",
    " \n",
    "```shell\n",
    "Ex.\n",
    "git config user.name\n",
    "```"
   ]
  },
  {
   "cell_type": "markdown",
   "metadata": {},
   "source": [
    "## Set the *default* editor\n",
    "```shell\n",
    "git config --global <variable.var> <value>\n",
    "```\n",
    " \n",
    "```shell\n",
    "Ex.\n",
    "git config core.editor notepad\n",
    "```"
   ]
  },
  {
   "cell_type": "markdown",
   "metadata": {},
   "source": [
    "# "
   ]
  },
  {
   "cell_type": "markdown",
   "metadata": {},
   "source": [
    "*Just a brief*:<br>\n",
    "Using `commit` you place all your files from Staging Area to Commits. <br>\n",
    "Using `checkout` you place the files from Commits to Working Tree."
   ]
  },
  {
   "cell_type": "markdown",
   "metadata": {},
   "source": [
    "# "
   ]
  },
  {
   "cell_type": "markdown",
   "metadata": {},
   "source": [
    "# Areas\n",
    "1. Working Tree\n",
    "        It is the area where you prepare your files, edit them and do the development stuff.\n",
    "2. Staging Area\n",
    "        - This area contains the files that you are planning to commit next.\n",
    "        - You build the staging are the way you wanted so that the next commit becomes a meaningful snapshot of your project.\n",
    "3. Project History\n",
    "        Contains all commit history of the project."
   ]
  },
  {
   "cell_type": "markdown",
   "metadata": {},
   "source": [
    "# "
   ]
  },
  {
   "cell_type": "markdown",
   "metadata": {},
   "source": [
    "# Staging Area"
   ]
  },
  {
   "cell_type": "markdown",
   "metadata": {},
   "source": [
    "- The \"Untracked\" files are those which are in the working tree but not managed by git.\n",
    "\n",
    "Use,\n",
    "```sh\n",
    "# Full Status\n",
    "git status\n",
    "\n",
    "# Short Status\n",
    "git status -s\n",
    "```"
   ]
  },
  {
   "cell_type": "markdown",
   "metadata": {},
   "source": [
    "In short `-s` mode:\n",
    "- <pre><font color=\"red\">??</font>: file is Untracked</pre>\n",
    "- <pre><font color=\"green\"> A</font>: file is Added / Tracked</pre>\n",
    "- <pre><font color=\"green\">A</font><font color=\"red\">M</font>: file is Added <i>but</i> Modified in working tree</pre>"
   ]
  },
  {
   "cell_type": "markdown",
   "metadata": {},
   "source": [
    "# Add files"
   ]
  },
  {
   "cell_type": "markdown",
   "metadata": {},
   "source": [
    "```sh\n",
    "git add (file_name(s) | .)\n",
    "```"
   ]
  },
  {
   "cell_type": "markdown",
   "metadata": {},
   "source": [
    "###### "
   ]
  },
  {
   "cell_type": "markdown",
   "metadata": {},
   "source": [
    "# What is *modified file*?"
   ]
  },
  {
   "cell_type": "markdown",
   "metadata": {},
   "source": [
    "> It is the file which *has been added to the staging area **or** previously committed but now changed in the working tree*."
   ]
  },
  {
   "cell_type": "markdown",
   "metadata": {},
   "source": [
    "# Commit"
   ]
  },
  {
   "cell_type": "markdown",
   "metadata": {},
   "source": [
    "```sh\n",
    "git commit -m \"Message\"\n",
    "```\n",
    "After the commit, the staging area will be cleaned. That means all changes in the files are in the history and git has taken the snapshot of the project successfully."
   ]
  },
  {
   "cell_type": "markdown",
   "metadata": {},
   "source": [
    "# View Commit History\n",
    "```sh\n",
    "# Full Version\n",
    "git log\n",
    "\n",
    "# Condensed Version\n",
    "git log --oneline\n",
    "\n",
    "# Graph with arrows\n",
    "git log --graph\n",
    "\n",
    "# Control how much commits you want to view\n",
    "git log -2\n",
    "```"
   ]
  },
  {
   "cell_type": "markdown",
   "metadata": {},
   "source": [
    "# Remote Repository\n",
    " - It is often called ***bare*** repository as nobody uses it locally and there is no working tree or staging area.\n",
    " - The root directory is similar to `.git` folder."
   ]
  },
  {
   "cell_type": "markdown",
   "metadata": {},
   "source": [
    "# Other VCS services like git\n",
    "- CodePlex\n",
    "- Mercurial\n",
    "- SourceForge\n",
    "- Subversion"
   ]
  },
  {
   "cell_type": "markdown",
   "metadata": {},
   "source": [
    "# "
   ]
  },
  {
   "cell_type": "markdown",
   "metadata": {},
   "source": [
    "# Next up,\n",
    "We will start how to PUSH in Remote Repository."
   ]
  }
 ],
 "metadata": {
  "kernelspec": {
   "display_name": "Python 3",
   "language": "python",
   "name": "python3"
  },
  "language_info": {
   "codemirror_mode": {
    "name": "ipython",
    "version": 3
   },
   "file_extension": ".py",
   "mimetype": "text/x-python",
   "name": "python",
   "nbconvert_exporter": "python",
   "pygments_lexer": "ipython3",
   "version": "3.8.5"
  }
 },
 "nbformat": 4,
 "nbformat_minor": 4
}
